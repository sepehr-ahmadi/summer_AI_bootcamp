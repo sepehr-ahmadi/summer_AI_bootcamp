{
 "cells": [
  {
   "cell_type": "markdown",
   "id": "eeb1ade4",
   "metadata": {},
   "source": [
    "### 1-\n",
    "add all the items in this list: ['1','2','2.5','3.5']\n"
   ]
  },
  {
   "cell_type": "code",
   "execution_count": null,
   "id": "62b42805",
   "metadata": {},
   "outputs": [],
   "source": [
    "a=['1','2','2.5','3.5']"
   ]
  },
  {
   "cell_type": "markdown",
   "id": "fbdf211f",
   "metadata": {},
   "source": [
    "### 2- \n",
    "calculate the average of all 2-digit integers. (numbers 10 to 99)\n"
   ]
  },
  {
   "cell_type": "code",
   "execution_count": 5,
   "id": "908f5093",
   "metadata": {},
   "outputs": [
    {
     "name": "stdout",
     "output_type": "stream",
     "text": [
      "54.5\n"
     ]
    }
   ],
   "source": [
    "b=sum(list(range(10,100)))/90\n",
    "      \n",
    "print(b)"
   ]
  },
  {
   "cell_type": "markdown",
   "id": "eb3bd609",
   "metadata": {},
   "source": [
    "### 3- \n",
    "Given a variable, check if it is prime (a prime number is a number that is divisible only by itself and 1)\n"
   ]
  },
  {
   "cell_type": "code",
   "execution_count": 15,
   "id": "27f87528",
   "metadata": {},
   "outputs": [
    {
     "name": "stdout",
     "output_type": "stream",
     "text": [
      "please enter variable:5\n",
      "5 is primal\n"
     ]
    }
   ],
   "source": [
    "a=int(input('please enter variable:'))\n",
    "for k in range(2,int(a/2)+1):\n",
    "   if a%k==0:\n",
    "    print(a,'is not primal')\n",
    "    break\n",
    "   if int(a/2)==k:\n",
    "    print(a, 'is primal')\n",
    "    break\n",
    "        "
   ]
  },
  {
   "cell_type": "markdown",
   "id": "a8e01dc6",
   "metadata": {},
   "source": [
    "### 4- \n",
    "Given a variable, write a function to check if it is a prime number. You should handle all data types and corner cases (Numbers less than 2)\n"
   ]
  },
  {
   "cell_type": "code",
   "execution_count": 21,
   "id": "e74878e6",
   "metadata": {},
   "outputs": [
    {
     "name": "stdout",
     "output_type": "stream",
     "text": [
      "please enter variable5\n",
      "True\n"
     ]
    }
   ],
   "source": [
    "input_variable=input('please enter variable')\n",
    "\n",
    "def prime_detector(input):\n",
    "    if int(input)<2:\n",
    "        return False\n",
    "    if round(float(input))!=int(input):\n",
    "        return False\n",
    "    input=int(input)   \n",
    "    for k in range(2,input-1):\n",
    "        if input%k==0:\n",
    "            return False\n",
    "        return True\n",
    "print(prime_detector(input_variable))"
   ]
  },
  {
   "cell_type": "markdown",
   "id": "13ec0f87",
   "metadata": {},
   "source": [
    "### 5- \n",
    "make a list of prime numbers less than 100.\n"
   ]
  },
  {
   "cell_type": "code",
   "execution_count": 29,
   "id": "48d1a3f7",
   "metadata": {},
   "outputs": [
    {
     "name": "stdout",
     "output_type": "stream",
     "text": [
      "[1, 2, 3, 5, 7, 11, 13, 17, 19, 23, 29, 31, 37, 41, 43, 47, 53, 59, 61, 67, 71, 73, 79, 83, 89, 97]\n"
     ]
    }
   ],
   "source": [
    "prime_list=[1,2,3]\n",
    "def prime_detector(input):\n",
    "    for k in range(2,int(input/2)+1):\n",
    "        if input%k==0:\n",
    "            return False\n",
    "        if int(input/2)==k:\n",
    "            return True\n",
    "for k in range (1,100):\n",
    "    if prime_detector(k)==True:\n",
    "        prime_list.append(k)\n",
    "print(prime_list)"
   ]
  },
  {
   "cell_type": "markdown",
   "id": "f4eec208",
   "metadata": {},
   "source": [
    "### 6- \n",
    "make sets of integers S2, S3 less than 100 that are divisible by two, and three. Then take the intersection and union of the two sets. "
   ]
  },
  {
   "cell_type": "code",
   "execution_count": 31,
   "id": "d65bde2d",
   "metadata": {},
   "outputs": [
    {
     "name": "stdout",
     "output_type": "stream",
     "text": [
      "[6, 12, 18, 24, 30, 36, 42, 48, 54, 60, 66, 72, 78, 84, 90, 96]\n"
     ]
    }
   ],
   "source": [
    "s2=[]\n",
    "s3=[]\n",
    "def intersection(lst1, lst2):\n",
    "    lst3 = [value for value in lst1 if value in lst2]\n",
    "    return lst3\n",
    " \n",
    "for k in range(1,100):\n",
    "    if k%2==0:\n",
    "        s2.append(k)\n",
    "    if k%3==0:\n",
    "        s3.append(k)\n",
    "\n",
    "print(intersection(s2,s3))"
   ]
  },
  {
   "cell_type": "markdown",
   "id": "36bac5d8",
   "metadata": {},
   "source": [
    "### 7-\n",
    "Find the set of all numbers less than 100 that are divisible by 2 and 3 and not by 5.\n"
   ]
  },
  {
   "cell_type": "code",
   "execution_count": 33,
   "id": "47b6fdbb",
   "metadata": {},
   "outputs": [
    {
     "name": "stdout",
     "output_type": "stream",
     "text": [
      "[6, 12, 18, 24, 36, 42, 48, 54, 66, 72, 78, 84, 96]\n"
     ]
    }
   ],
   "source": [
    "s2=[]\n",
    "s3=[]\n",
    "def intersection(lst1, lst2):\n",
    "    lst3 = [value for value in lst1 if value in lst2]\n",
    "    return lst3\n",
    " \n",
    "for k in range(1,100):\n",
    "    if k%2==0:\n",
    "        s2.append(k)\n",
    "    if k%3==0:\n",
    "        s3.append(k)\n",
    "final_list=intersection(s2,s3)\n",
    "for k in final_list:\n",
    "    if k%5==0:\n",
    "        final_list.remove(k)\n",
    "print(final_list)"
   ]
  },
  {
   "cell_type": "markdown",
   "id": "38d3a022",
   "metadata": {},
   "source": [
    "### 8- \n",
    "\n",
    "Write a code to generate this pattern given n number of lines:\n",
    "(For n = 6)\n",
    "### \\****** \n",
    "### \\***** \n",
    "### \\**** \n",
    "### \\*** \n",
    "### \\** \n",
    "### \\*\n",
    "\n"
   ]
  },
  {
   "cell_type": "code",
   "execution_count": 37,
   "id": "92e8f426",
   "metadata": {},
   "outputs": [
    {
     "name": "stdout",
     "output_type": "stream",
     "text": [
      "******\n",
      "*****\n",
      "****\n",
      "***\n",
      "**\n",
      "*\n"
     ]
    }
   ],
   "source": [
    "\n",
    "for j in range(1,7):\n",
    "    print((7-j)*'*')\n"
   ]
  },
  {
   "cell_type": "markdown",
   "id": "feeb3cfa",
   "metadata": {},
   "source": [
    "### 9-\n",
    "write a code to reverse this string :\n",
    "\n",
    "\"I love python programming\" --> \"programming python love I\""
   ]
  },
  {
   "cell_type": "code",
   "execution_count": 11,
   "id": "ece78ccd",
   "metadata": {},
   "outputs": [
    {
     "name": "stdout",
     "output_type": "stream",
     "text": [
      "programming pyhton love i\n"
     ]
    }
   ],
   "source": [
    "sentences=\"i love pyhton programming\"\n",
    "li = list(sentences.split(\" \"))\n",
    "li.reverse()\n",
    "print(' '.join(li))"
   ]
  },
  {
   "cell_type": "markdown",
   "id": "a3700b20",
   "metadata": {},
   "source": [
    "### 10- \n",
    "Given this string, make a set of all words\n",
    "(You can use split and replace functions)"
   ]
  },
  {
   "cell_type": "code",
   "execution_count": 46,
   "id": "849f134b",
   "metadata": {},
   "outputs": [
    {
     "name": "stdout",
     "output_type": "stream",
     "text": [
      "['Python', 'can', 'be', 'used', 'on', 'a', 'server', 'to', 'create', 'web', 'applications.', 'alongside', 'software', 'workflows.', 'connect', 'database', 'systems.', 'It', 'also', 'read', 'and', 'modify', 'files.', 'handle', 'big', 'data', 'perform', 'complex', 'mathematics.', 'for', 'rapid', 'prototyping,', 'or', 'production-ready', 'development.']\n"
     ]
    }
   ],
   "source": [
    "my_string = '''Python can be used on a server to create web applications.\n",
    "Python can be used alongside software to create workflows.\n",
    "Python can connect to database systems. It can also read and modify files.\n",
    "Python can be used to handle big data and perform complex mathematics.\n",
    "Python can be used for rapid prototyping, or for production-ready software development.'''\n",
    "my_string_list=list(my_string.split())\n",
    "my_string_list_result = [] \n",
    "[my_string_list_result.append(x) for x in my_string_list if x not in my_string_list_result]\n",
    "print(my_string_list_result)\n"
   ]
  },
  {
   "cell_type": "code",
   "execution_count": 9,
   "id": "a23a4f1c",
   "metadata": {},
   "outputs": [
    {
     "name": "stdout",
     "output_type": "stream",
     "text": [
      "25.979158313283875\n"
     ]
    }
   ],
   "source": [
    "\n",
    "a=0\n",
    "for i in range(10,100):\n",
    "    a=(i-54.5)**2+a\n",
    "sd=(a/len(range(10,100)))**(0.5)\n",
    "print(sd)\n",
    "\n"
   ]
  },
  {
   "cell_type": "code",
   "execution_count": null,
   "id": "fd09f40a",
   "metadata": {},
   "outputs": [],
   "source": []
  }
 ],
 "metadata": {
  "kernelspec": {
   "display_name": "Python 3 (ipykernel)",
   "language": "python",
   "name": "python3"
  },
  "language_info": {
   "codemirror_mode": {
    "name": "ipython",
    "version": 3
   },
   "file_extension": ".py",
   "mimetype": "text/x-python",
   "name": "python",
   "nbconvert_exporter": "python",
   "pygments_lexer": "ipython3",
   "version": "3.9.12"
  }
 },
 "nbformat": 4,
 "nbformat_minor": 5
}
