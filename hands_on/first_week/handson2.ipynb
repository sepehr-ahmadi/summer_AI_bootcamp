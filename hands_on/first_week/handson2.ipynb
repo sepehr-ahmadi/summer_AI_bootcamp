{
 "cells": [
  {
   "cell_type": "code",
   "execution_count": null,
   "id": "87d9eba2",
   "metadata": {},
   "outputs": [],
   "source": [
    "#1- Given the list of all 2-digit numbers\n",
    "#calculate the mean and standard deviation of all numbers in this list.\n",
    "a=0\n",
    "for i in range(10,100):\n",
    "    a=(i-54.5)**2+a\n",
    "sd=(a/len(range(10,100)))**(0.5)\n",
    "print(sd)"
   ]
  },
  {
   "cell_type": "code",
   "execution_count": 8,
   "id": "34cc1708",
   "metadata": {},
   "outputs": [
    {
     "name": "stdout",
     "output_type": "stream",
     "text": [
      "[1, 2, 3]\n",
      "[1, 3, 2]\n",
      "[2, 1, 3]\n",
      "[2, 3, 1]\n",
      "[3, 1, 2]\n",
      "[3, 2, 1]\n"
     ]
    }
   ],
   "source": [
    "#2- write a code to print all possible permutations of length n.\n",
    "#For example, given n=3, we have 6 permutations: [1,2,3],[1,3,2],[2,1,3],[2,3,1],[3,1,2],[3,2,1]\n",
    "import itertools\n",
    "n=3\n",
    "my_list=list(range(1,n+1))\n",
    "from itertools import permutations\n",
    "for i in permutations(my_list, n):\n",
    "    print(list(i) )\n"
   ]
  },
  {
   "cell_type": "code",
   "execution_count": 21,
   "id": "8b842799",
   "metadata": {},
   "outputs": [
    {
     "name": "stdout",
     "output_type": "stream",
     "text": [
      "{'Python': 8, 'is': 4, 'a': 4, 'high': 1, 'level': 1, '': 18, 'interpreted': 1, 'general': 1, 'purpose': 1, 'programming': 5, 'language': 3, 'Its': 1, 'design': 1, 'philosophy': 1, 'emphasizes': 1, 'code': 1, 'readability': 1, 'with': 3, 'the': 4, 'use': 1, 'of': 2, 'significant': 1, 'indentation': 1, 'dynamically': 1, 'typed': 1, 'and': 5, 'garbage': 2, 'collected': 1, 'It': 2, 'supports': 1, 'multiple': 1, 'paradigms': 1, 'including': 1, 'structured': 1, '(particularly': 1, 'procedural)': 1, 'object': 1, 'oriented': 1, 'functional': 1, 'often': 1, 'described': 1, 'as': 5, '\"batteries': 1, 'included\"': 1, 'due': 1, 'to': 2, 'its': 1, 'comprehensive': 1, 'standard': 1, 'library': 1, 'Guido': 1, 'van': 1, 'Rossum': 1, 'began': 1, 'working': 1, 'on': 1, 'in': 5, 'late': 1, '1980s': 1, 'successor': 1, 'ABC': 1, 'first': 1, 'released': 3, 'it': 1, '1991': 1, '0': 4, '9': 1, '[34]': 1, '2': 3, 'was': 3, '2000': 1, 'introduced': 1, 'new': 1, 'features': 1, 'such': 1, 'list': 1, 'comprehensions': 1, 'cycle': 1, 'detecting': 1, 'collection': 1, 'reference': 1, 'counting': 1, 'Unicode': 1, 'support': 1, '3': 1, '2008': 1, 'major': 1, 'revision': 1, 'that': 1, 'not': 1, 'completely': 1, 'backward': 1, 'compatible': 1, 'earlier': 1, 'versions': 1, 'discontinued': 1, 'version': 1, '7': 1, '18': 1, '2020': 1, 'consistently': 1, 'ranks': 1, 'one': 1, 'most': 1, 'popular': 1, 'languages': 1}\n"
     ]
    }
   ],
   "source": [
    "# 3- given a long text, count the number of occurences of all words in the text in a python dictionary.\n",
    "s='Python is a high-level, interpreted, general-purpose programming language. Its design philosophy emphasizes code readability with the use of significant indentation. Python is dynamically-typed and garbage-collected. It supports multiple programming paradigms, including structured (particularly procedural), object-oriented and functional programming. It is often described as a \"batteries included\" language due to its comprehensive standard library. Guido van Rossum began working on Python in the late 1980s as a successor to the ABC programming language and first released it in 1991 as Python 0.9.0.[34] Python 2.0 was released in 2000 and introduced new features such as list comprehensions, cycle-detecting garbage collection, reference counting, and Unicode support. Python 3.0, released in 2008, was a major revision that is not completely backward-compatible with earlier versions. Python 2 was discontinued with version 2.7.18 in 2020. Python consistently ranks as one of the most popular programming languages.'\n",
    "list_of_words=list(s.replace('.',\" \").replace('-',\" \").replace(',',\" \").split(\" \"))\n",
    "dict_of_words={}\n",
    "for i in list_of_words:\n",
    "    if i in dict_of_words:\n",
    "        dict_of_words[i]=dict_of_words[i]+1\n",
    "    else:\n",
    "        dict_of_words[i]=1\n",
    "\n",
    "print(dict_of_words)"
   ]
  },
  {
   "cell_type": "code",
   "execution_count": 22,
   "id": "41b1d7f4",
   "metadata": {},
   "outputs": [
    {
     "name": "stdout",
     "output_type": "stream",
     "text": [
      "{0: 2, 1: 8, 2: 4, 3: 9, 4: 1, 5: 6, 6: 7, 7: 3, 8: 0, 9: 5}\n"
     ]
    }
   ],
   "source": [
    "# 4-\n",
    "import numpy as np\n",
    "np.random.seed(0)\n",
    "n=10\n",
    "perm=np.random.permutation(10)\n",
    "d={i:perm[i] for i in range(n)}\n",
    "print(d)"
   ]
  },
  {
   "cell_type": "code",
   "execution_count": 54,
   "id": "3152193b",
   "metadata": {},
   "outputs": [
    {
     "name": "stdout",
     "output_type": "stream",
     "text": [
      "2 [[0, 1, 2, 4, 8], [3, 5, 6, 7, 9]]\n"
     ]
    }
   ],
   "source": [
    "# A directed graph is given with dictionary d.\n",
    "# Count how many separate cycles there are in this graph\n",
    "\n",
    "result=[]\n",
    "for k in d:\n",
    "    seen = []\n",
    "    while k not in seen and k is not None:\n",
    "        seen.append(k)\n",
    "        k = d.get(k)\n",
    "    # result = seen[seen.index(k):] if k is not None else []\n",
    "    if k is not None:\n",
    "        seen.sort()\n",
    "        if seen not in result:\n",
    "            result.append(seen)\n",
    "\n",
    "\n",
    "print(len(result),result)"
   ]
  },
  {
   "cell_type": "code",
   "execution_count": null,
   "id": "dd7d7f49",
   "metadata": {},
   "outputs": [],
   "source": []
  }
 ],
 "metadata": {
  "kernelspec": {
   "display_name": "Python 3 (ipykernel)",
   "language": "python",
   "name": "python3"
  },
  "language_info": {
   "codemirror_mode": {
    "name": "ipython",
    "version": 3
   },
   "file_extension": ".py",
   "mimetype": "text/x-python",
   "name": "python",
   "nbconvert_exporter": "python",
   "pygments_lexer": "ipython3",
   "version": "3.9.12"
  }
 },
 "nbformat": 4,
 "nbformat_minor": 5
}
