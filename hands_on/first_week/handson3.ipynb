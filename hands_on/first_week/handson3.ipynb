{
 "cells": [
  {
   "cell_type": "markdown",
   "metadata": {},
   "source": [
    "# Hands-on 3"
   ]
  },
  {
   "cell_type": "markdown",
   "metadata": {},
   "source": [
    "**Execute the cell below. By running this cell, a dataset will be loaded from `patents_small.csv` file. In this notebook, you are asked to analyze this data in several ways. There are three numpy arrays in this dataset:**\n",
    "- `patent_number`: a unique identifier for each patetnt\n",
    "- `patent features`: a vector of 16 features describing several properties of each patent\n",
    "- `category`: the category to which a patent belongs "
   ]
  },
  {
   "cell_type": "code",
   "execution_count": 4,
   "metadata": {},
   "outputs": [],
   "source": [
    "import pandas as pd\n",
    "import numpy as np\n",
    "\n",
    "df = pd.read_csv('patents.csv')\n",
    "df.head()\n",
    "patent_number = df['publication_number'].to_numpy()\n",
    "patent_features = df['patent_embedding'].to_numpy()\n",
    "temp = []\n",
    "for i in range(patent_features.size):\n",
    "    s = str(patent_features[i])\n",
    "    s1 = s.replace(r'\\n', '')\n",
    "    temp.append(\n",
    "        np.array(s.split()[1:-1], dtype='float')[:16]\n",
    "    )\n",
    "\n",
    "patent_features = np.stack(temp)\n",
    "patent_category = df['category']"
   ]
  },
  {
   "cell_type": "markdown",
   "metadata": {},
   "source": []
  },
  {
   "cell_type": "markdown",
   "metadata": {},
   "source": [
    "1- Which patent has the highest norm? (Eucledian distance from origin)\n"
   ]
  },
  {
   "cell_type": "code",
   "execution_count": 19,
   "metadata": {},
   "outputs": [
    {
     "name": "stdout",
     "output_type": "stream",
     "text": [
      "['CH-527846-A']\n"
     ]
    }
   ],
   "source": [
    "from numpy import linalg as LA\n",
    "patent_features_norm=LA.norm(patent_features, axis=1)\n",
    "max_norm=np.amax(patent_features_norm)\n",
    "max_index=(np.where(patent_features_norm==max_norm))\n",
    "max_norm_number=(patent_number[max_index])\n"
   ]
  },
  {
   "cell_type": "markdown",
   "metadata": {},
   "source": [
    "2- Find the two patents that are the farthest from eachother."
   ]
  },
  {
   "cell_type": "code",
   "execution_count": 22,
   "metadata": {},
   "outputs": [
    {
     "name": "stdout",
     "output_type": "stream",
     "text": [
      "['CH-527846-A'] ['KR-950001245-B1']\n"
     ]
    }
   ],
   "source": [
    "patent_features_norm=LA.norm(patent_features, axis=1)\n",
    "max_norm=np.amax(patent_features_norm)\n",
    "max_index=(np.where(patent_features_norm==max_norm))\n",
    "max_norm_number=(patent_number[max_index])\n",
    "min_norm=np.amin(patent_features_norm)\n",
    "min_index=(np.where(patent_features_norm==min_norm))\n",
    "min_norm_number=patent_number[min_index]\n",
    "print(max_norm_number,min_norm_number)"
   ]
  },
  {
   "cell_type": "markdown",
   "metadata": {},
   "source": [
    "3- Write a function that, given a patent number, finds its nearest neighbour.\n"
   ]
  },
  {
   "cell_type": "code",
   "execution_count": 40,
   "metadata": {
    "scrolled": true
   },
   "outputs": [
    {
     "name": "stdout",
     "output_type": "stream",
     "text": [
      "KR-20010012196-A\n"
     ]
    }
   ],
   "source": [
    "from scipy import spatial\n",
    "def nearest_neighbour(patent_features_list,patent_number_list, patent_number):\n",
    "    index=np.where(patent_number==patent_number_list)\n",
    "    feature_array=patent_features_list[index[0]]\n",
    "    tree=spatial.KDTree(patent_features_list)\n",
    "    nearest=tree.query(feature_array,k=2)\n",
    "    nearest_index=nearest[1][0][1]\n",
    "    \n",
    "    return patent_number_list[nearest_index]\n",
    "print(nearest_neighbour(patent_features,patent_number,'CH-527846-A'))\n",
    "    \n",
    "    "
   ]
  },
  {
   "cell_type": "markdown",
   "metadata": {},
   "source": [
    "4- For each patent category, find the cluster center. This quantity is computed by taking average of all patents associated with each cluster."
   ]
  },
  {
   "cell_type": "code",
   "execution_count": 13,
   "metadata": {
    "scrolled": true
   },
   "outputs": [
    {
     "name": "stdout",
     "output_type": "stream",
     "text": [
      "0 -> [ 0.01086092 -0.02427292  0.06917166 -0.04593048 -0.02812299 -0.0124727\n",
      " -0.04987288  0.00655626  0.0098301  -0.01550384  0.00122531  0.00426678\n",
      "  0.00017979  0.02210309 -0.02753392 -0.00829946]\n",
      "1 -> [ 0.01021772  0.0140427  -0.03571764  0.05286253 -0.04302765 -0.00263517\n",
      "  0.02233755 -0.04675915  0.01272022  0.03165236  0.01146286 -0.00024609\n",
      "  0.01377522  0.00555212  0.02024696 -0.04467966]\n",
      "2 -> [ 0.01844678  0.00991557 -0.05545595  0.02615103 -0.07078419 -0.0115121\n",
      "  0.04539117 -0.05906673 -0.02173693  0.00203886  0.00052992  0.02329754\n",
      " -0.03247548  0.03103352  0.0140693  -0.06104154]\n",
      "3 -> [ 0.01717531  0.01595333 -0.03129371  0.05920419 -0.05942006 -0.03559038\n",
      " -0.01542298 -0.05486974  0.00243557  0.004506   -0.02005723  0.00059813\n",
      " -0.00323446  0.00388401  0.01666861 -0.02052029]\n",
      "4 -> [ 0.01498087  0.02345642 -0.00569218  0.04002896 -0.03471142  0.00468704\n",
      "  0.01612199 -0.03838371  0.00732594  0.00352215  0.00011503  0.01232852\n",
      " -0.01395763  0.00333184  0.04570635 -0.0292569 ]\n",
      "5 -> [ 8.79519076e-03 -4.88311352e-02  2.29908733e-02 -5.66476866e-02\n",
      " -9.19576819e-03  4.12041488e-02 -5.63686219e-02 -1.33915669e-02\n",
      "  1.58014840e-02  1.14049335e-05  1.64819622e-02 -2.36509750e-02\n",
      "  1.72316331e-02  2.15542465e-02 -5.94789040e-02 -1.30144330e-02]\n",
      "6 -> [ 0.01211396 -0.0304879   0.05560378 -0.03702774  0.00110319  0.01892597\n",
      " -0.04493763  0.01639101  0.03405147  0.01160055 -0.0039251   0.01961012\n",
      "  0.0012078   0.02051051 -0.04779424 -0.01136447]\n",
      "7 -> [ 0.02380652 -0.00299412  0.0480317  -0.03110474  0.00233771  0.0145927\n",
      " -0.0331035   0.00962097  0.00774661  0.00056323  0.01158552 -0.00853263\n",
      "  0.00206507  0.04807342 -0.03418843  0.00104518]\n"
     ]
    }
   ],
   "source": [
    "category_list=[]\n",
    "# create list of category\n",
    "for i in patent_category:\n",
    "    if i not in category_list:\n",
    "        category_list.append(i)\n",
    "category_list.sort()\n",
    "# creat dict of category\n",
    "category_dict=dict()\n",
    "for i in category_list:\n",
    "    category_dict[i]=np.where(i==patent_category)\n",
    "\n",
    "for category, cluster_patents in category_dict.items():\n",
    "    print(category, '->', np.mean(patent_features[cluster_patents], axis=0))\n",
    "\n",
    "\n",
    "    "
   ]
  },
  {
   "cell_type": "markdown",
   "metadata": {},
   "source": [
    "5- How many patents have a nearest neighbour that is in the same category?"
   ]
  },
  {
   "cell_type": "code",
   "execution_count": 30,
   "metadata": {},
   "outputs": [
    {
     "name": "stdout",
     "output_type": "stream",
     "text": [
      "2946\n"
     ]
    }
   ],
   "source": [
    "from scipy import spatial\n",
    "def nearest_neighbour(patent_features_list,patent_number_list, patent_number):\n",
    "    index=np.where(patent_number==patent_number_list)\n",
    "    feature_array=patent_features_list[index[0]]\n",
    "    tree=spatial.KDTree(patent_features_list)\n",
    "    nearest=tree.query(feature_array,k=2)\n",
    "    nearest_index=nearest[1][0][1]\n",
    "    return nearest_index\n",
    "counter=0\n",
    "\n",
    "index_counter=0\n",
    "for i in patent_number:\n",
    "    nearest_neighbour_index=nearest_neighbour(patent_features,patent_number,i)\n",
    "#     print(nearest_neighbour_index)\n",
    "    if patent_category[nearest_neighbour_index]==patent_category[index_counter] :\n",
    "        counter=counter+1\n",
    "print(counter)"
   ]
  },
  {
   "cell_type": "markdown",
   "metadata": {},
   "source": [
    "6- What is the average and std of distances between every pair of patents?\n"
   ]
  },
  {
   "cell_type": "code",
   "execution_count": 36,
   "metadata": {},
   "outputs": [
    {
     "ename": "KeyboardInterrupt",
     "evalue": "",
     "output_type": "error",
     "traceback": [
      "\u001b[1;31m---------------------------------------------------------------------------\u001b[0m",
      "\u001b[1;31mKeyboardInterrupt\u001b[0m                         Traceback (most recent call last)",
      "Input \u001b[1;32mIn [36]\u001b[0m, in \u001b[0;36m<cell line: 3>\u001b[1;34m()\u001b[0m\n\u001b[0;32m      3\u001b[0m \u001b[38;5;28;01mfor\u001b[39;00m i \u001b[38;5;129;01min\u001b[39;00m \u001b[38;5;28mrange\u001b[39m(patent_features\u001b[38;5;241m.\u001b[39mshape[\u001b[38;5;241m0\u001b[39m]):\n\u001b[0;32m      4\u001b[0m     \u001b[38;5;28;01mfor\u001b[39;00m j \u001b[38;5;129;01min\u001b[39;00m \u001b[38;5;28mrange\u001b[39m(i\u001b[38;5;241m+\u001b[39m\u001b[38;5;241m1\u001b[39m,patent_features\u001b[38;5;241m.\u001b[39mshape[\u001b[38;5;241m0\u001b[39m]):\n\u001b[1;32m----> 5\u001b[0m         dist \u001b[38;5;241m=\u001b[39m \u001b[43mnp\u001b[49m\u001b[38;5;241;43m.\u001b[39;49m\u001b[43mlinalg\u001b[49m\u001b[38;5;241;43m.\u001b[39;49m\u001b[43mnorm\u001b[49m\u001b[43m(\u001b[49m\u001b[43mpatent_features\u001b[49m\u001b[43m[\u001b[49m\u001b[43mi\u001b[49m\u001b[43m]\u001b[49m\u001b[38;5;241;43m-\u001b[39;49m\u001b[43mpatent_features\u001b[49m\u001b[43m[\u001b[49m\u001b[43mj\u001b[49m\u001b[43m]\u001b[49m\u001b[43m)\u001b[49m\u001b[38;5;241m+\u001b[39mdist\n\u001b[0;32m      6\u001b[0m \u001b[38;5;28mprint\u001b[39m(dist)\n",
      "File \u001b[1;32m<__array_function__ internals>:5\u001b[0m, in \u001b[0;36mnorm\u001b[1;34m(*args, **kwargs)\u001b[0m\n",
      "File \u001b[1;32m~\\anaconda3\\lib\\site-packages\\numpy\\linalg\\linalg.py:2530\u001b[0m, in \u001b[0;36mnorm\u001b[1;34m(x, ord, axis, keepdims)\u001b[0m\n\u001b[0;32m   2528\u001b[0m     sqnorm \u001b[38;5;241m=\u001b[39m dot(x\u001b[38;5;241m.\u001b[39mreal, x\u001b[38;5;241m.\u001b[39mreal) \u001b[38;5;241m+\u001b[39m dot(x\u001b[38;5;241m.\u001b[39mimag, x\u001b[38;5;241m.\u001b[39mimag)\n\u001b[0;32m   2529\u001b[0m \u001b[38;5;28;01melse\u001b[39;00m:\n\u001b[1;32m-> 2530\u001b[0m     sqnorm \u001b[38;5;241m=\u001b[39m \u001b[43mdot\u001b[49m\u001b[43m(\u001b[49m\u001b[43mx\u001b[49m\u001b[43m,\u001b[49m\u001b[43m \u001b[49m\u001b[43mx\u001b[49m\u001b[43m)\u001b[49m\n\u001b[0;32m   2531\u001b[0m ret \u001b[38;5;241m=\u001b[39m sqrt(sqnorm)\n\u001b[0;32m   2532\u001b[0m \u001b[38;5;28;01mif\u001b[39;00m keepdims:\n",
      "File \u001b[1;32m<__array_function__ internals>:5\u001b[0m, in \u001b[0;36mdot\u001b[1;34m(*args, **kwargs)\u001b[0m\n",
      "\u001b[1;31mKeyboardInterrupt\u001b[0m: "
     ]
    }
   ],
   "source": [
    "# counter=0\n",
    "# dist=0\n",
    "# for i in range(patent_features.shape[0]):\n",
    "#     for j in range(i+1,patent_features.shape[0]):\n",
    "#         dist = np.linalg.norm(patent_features[i]-patent_features[j])+dist\n",
    "# print(dist)\n",
    "scipy.spatial.distance()"
   ]
  },
  {
   "cell_type": "code",
   "execution_count": null,
   "metadata": {},
   "outputs": [],
   "source": []
  },
  {
   "cell_type": "markdown",
   "metadata": {},
   "source": [
    "7- What is the average and std of distances between every pair of patents within a category?\n",
    "Using these calculated quantities, which cluster do you think is more condensed? Which one is more scattered?"
   ]
  },
  {
   "cell_type": "code",
   "execution_count": null,
   "metadata": {},
   "outputs": [],
   "source": []
  }
 ],
 "metadata": {
  "kernelspec": {
   "display_name": "Python 3 (ipykernel)",
   "language": "python",
   "name": "python3"
  },
  "language_info": {
   "codemirror_mode": {
    "name": "ipython",
    "version": 3
   },
   "file_extension": ".py",
   "mimetype": "text/x-python",
   "name": "python",
   "nbconvert_exporter": "python",
   "pygments_lexer": "ipython3",
   "version": "3.9.12"
  },
  "vscode": {
   "interpreter": {
    "hash": "25aba1949f44877099d449300e326e4451e69b41f5f01d7de2dc51cdf7c75fa4"
   }
  }
 },
 "nbformat": 4,
 "nbformat_minor": 2
}
