{
 "cells": [
  {
   "cell_type": "code",
   "execution_count": 3,
   "id": "1186cf64",
   "metadata": {},
   "outputs": [],
   "source": [
    "import json\n",
    "import numpy as np\n",
    "  \n",
    "# read json data file\n",
    "f=open('taxi_requests.json')\n",
    "data = json.load(f)\n",
    "f.close()\n",
    "\n",
    "login_times=data['request_time']\n",
    "\n",
    "# uncomment next line to see how the data looks like\n",
    "# display(login_times) \n",
    "# display(data)"
   ]
  },
  {
   "cell_type": "code",
   "execution_count": 4,
   "id": "32d35eb7",
   "metadata": {},
   "outputs": [],
   "source": [
    "# convert time string to timestamps\n",
    "from datetime import datetime, timezone,timedelta\n",
    "import pytz\n",
    "\n",
    "local_tz = pytz.timezone('Asia/Tehran')\n",
    "# timestamps=[datetime.strptime(login_times[i], '%Y-%m-%d %H:%M:%S').timestamp() for i in range(len(login_times))]\n",
    "# timestamps\n",
    "timestamps=[(datetime.strptime(login_times[i], '%Y-%m-%d %H:%M:%S').replace(tzinfo=timezone.utc).astimezone(local_tz)+timedelta(hours=-3.5)).timestamp() for i in range(len(login_times))]\n",
    "# print(timestamps)\n"
   ]
  },
  {
   "cell_type": "markdown",
   "id": "d11ea248",
   "metadata": {},
   "source": [
    "# Written questions\n",
    "\n",
    "Please search online and read the documentation for strptime() and timestamp() and write down short answers to the following questions:\n",
    "\n",
    "A- What does the previous cell do? it uses strptime to get timestamps\n",
    "\n",
    "B- What does the concept of \"timestamp\" mean? What are its type and unit?\n",
    "\n",
    "C- Is the variable \"timestamps\" a list or a numpy array?\n",
    "\n",
    "D- Which day of week (Sunday, Monday, ...) is 1970-01-01?\n",
    "\n",
    "E- Which function can convert a timestamp back to datetime?\n"
   ]
  },
  {
   "cell_type": "markdown",
   "id": "33c6c4d8",
   "metadata": {},
   "source": [
    "# Project questions\n",
    "\n",
    "Explore data, write code, and search online to answer the following questions about the data:\n",
    "\n",
    "1- How many days are there in the data?\n",
    "\n",
    "2- Which date was the busiest date (the day with the most requests)? Which date was the second busiest date?\n",
    "\n",
    "3- Which hour was the busiest hour (the hour with the most requests)?\n",
    "\n",
    "4- Are there any two requests that happened at the same time?\n",
    "\n",
    "5- What is the longest gap between two consequent requests?\n",
    "\n",
    "6- Overall, does the volume of requests increase or decrease over time?\n",
    "\n",
    "7- Bonus: For each day calculate the average request time for all requests between 6:00 AM and 9:00 AM\n",
    "\n",
    "8- Bonus: Which day of week is the busiest?\n",
    "\n",
    "9- Bonus: Calculate the average number of requests for each of the 7*24 hours of the week.\n",
    "\n",
    "10- Bonus: Which dates other than the standard weekend days were holidays?"
   ]
  },
  {
   "cell_type": "markdown",
   "id": "590c2ad9",
   "metadata": {},
   "source": [
    "# answers\n"
   ]
  },
  {
   "cell_type": "code",
   "execution_count": 5,
   "id": "60b41f87",
   "metadata": {},
   "outputs": [
    {
     "name": "stdout",
     "output_type": "stream",
     "text": [
      "number of days in data: 103\n"
     ]
    }
   ],
   "source": [
    "# the first question:\n",
    "# 1-How many days are there in the data?\n",
    "import numpy as np\n",
    "day_number_list=np.array(timestamps).astype(int)//(24*60*60)\n",
    "days, day_event_counts = np.unique(day_number_list, return_counts=True)\n",
    "days_in_data=len(days)\n",
    "print('number of days in data:',days_in_data)"
   ]
  },
  {
   "cell_type": "code",
   "execution_count": 6,
   "id": "dd16a91f",
   "metadata": {},
   "outputs": [
    {
     "name": "stdout",
     "output_type": "stream",
     "text": [
      "the busiest day is day number  92\n",
      "the second busiest day is day number 72\n"
     ]
    }
   ],
   "source": [
    "# the second question:\n",
    "# 2- Which date was the busiest date (the day with the most requests)? Which date was the second busiest date?\n",
    "day_number_list=np.array(timestamps).astype(int)//(24*60*60)\n",
    "\n",
    "days, day_event_counts = np.unique(day_number_list, return_counts=True) \n",
    "\n",
    "day_with_maximum_event_index=np.argmax(day_event_counts) \n",
    "day_with_second_max_event_index=np.argpartition(day_event_counts.flatten(), -2)[-2]\n",
    "\n",
    "print(\"the busiest day is day number \",days[day_with_maximum_event_index])\n",
    "print(\"the second busiest day is day number\",days[day_with_second_max_event_index])"
   ]
  },
  {
   "cell_type": "code",
   "execution_count": 7,
   "id": "755e1dac",
   "metadata": {},
   "outputs": [
    {
     "name": "stdout",
     "output_type": "stream",
     "text": [
      "the busiest hour is   19\n"
     ]
    }
   ],
   "source": [
    "# third question\n",
    "# 3- Which hour was the busiest hour (the hour with the most requests)?\n",
    "\n",
    "second_in_day_list=(np.array(timestamps).astype(int)%(24*60*60))\n",
    "hour_number_list=np.array(second_in_day_list).astype(int)//(60*60)\n",
    "\n",
    "hours, hour_event_counts = np.unique(hour_number_list, return_counts=True)\n",
    "\n",
    "hour_with_maximum_event_index=np.argmax(hour_event_counts) \n",
    "print(\"the busiest hour is  \",hours[hour_with_maximum_event_index])"
   ]
  },
  {
   "cell_type": "code",
   "execution_count": 8,
   "id": "76f59245",
   "metadata": {},
   "outputs": [
    {
     "name": "stdout",
     "output_type": "stream",
     "text": [
      "868\n"
     ]
    }
   ],
   "source": [
    "# 4th question\n",
    "# 4- Are there any two requests that happened at the same time?\n",
    "def uni(records_array):\n",
    "    # np_unique test\n",
    "    records_array=np.array(records_array).astype(int)\n",
    "\n",
    "    vals, count = np.unique(records_array, return_counts=True)\n",
    "    same_timestamp_dict=dict()\n",
    "    for i in range(len(count)):\n",
    "        if count[i]>1:\n",
    "            same_timestamp_dict[vals[i]]=count[i]\n",
    "    return same_timestamp_dict\n",
    "\n",
    "print(len(uni(timestamps).keys()))"
   ]
  },
  {
   "cell_type": "code",
   "execution_count": 9,
   "id": "48031f01",
   "metadata": {},
   "outputs": [
    {
     "name": "stdout",
     "output_type": "stream",
     "text": [
      "5999.0\n"
     ]
    }
   ],
   "source": [
    "#5th question\n",
    "# 5- What is the longest gap between two consequent requests?\n",
    "diff=np.ediff1d(np.array(timestamps))\n",
    "print(np.amax(np.abs(diff)))"
   ]
  },
  {
   "cell_type": "code",
   "execution_count": 10,
   "id": "24d4a15d",
   "metadata": {},
   "outputs": [
    {
     "data": {
      "image/png": "[encoded data removed]",
      "text/plain": [
       "<Figure size 432x288 with 1 Axes>"
      ]
     },
     "metadata": {
      "needs_background": "light"
     },
     "output_type": "display_data"
    },
    {
     "ename": "NameError",
     "evalue": "name 'N' is not defined",
     "output_type": "error",
     "traceback": [
      "\u001b[1;31m---------------------------------------------------------------------------\u001b[0m",
      "\u001b[1;31mNameError\u001b[0m                                 Traceback (most recent call last)",
      "Input \u001b[1;32mIn [10]\u001b[0m, in \u001b[0;36m<cell line: 12>\u001b[1;34m()\u001b[0m\n\u001b[0;32m     10\u001b[0m plt\u001b[38;5;241m.\u001b[39mshow()\n\u001b[0;32m     11\u001b[0m fig2 \u001b[38;5;241m=\u001b[39m plt\u001b[38;5;241m.\u001b[39mfigure()\n\u001b[1;32m---> 12\u001b[0m a, b \u001b[38;5;241m=\u001b[39m np\u001b[38;5;241m.\u001b[39mpolyfit(days[\u001b[38;5;241m6\u001b[39m:], np\u001b[38;5;241m.\u001b[39mconvolve(day_event_counts, np\u001b[38;5;241m.\u001b[39mones(\u001b[43mN\u001b[49m)\u001b[38;5;241m/\u001b[39mN, mode\u001b[38;5;241m=\u001b[39m\u001b[38;5;124m'\u001b[39m\u001b[38;5;124mvalid\u001b[39m\u001b[38;5;124m'\u001b[39m), \u001b[38;5;241m1\u001b[39m)\n\u001b[0;32m     13\u001b[0m N\u001b[38;5;241m=\u001b[39m\u001b[38;5;241m7\u001b[39m\n\u001b[0;32m     14\u001b[0m plt\u001b[38;5;241m.\u001b[39mplot_date(x\u001b[38;5;241m=\u001b[39mdays[\u001b[38;5;241m6\u001b[39m:], y\u001b[38;5;241m=\u001b[39mnp\u001b[38;5;241m.\u001b[39mconvolve(day_event_counts, np\u001b[38;5;241m.\u001b[39mones(N)\u001b[38;5;241m/\u001b[39mN, mode\u001b[38;5;241m=\u001b[39m\u001b[38;5;124m'\u001b[39m\u001b[38;5;124mvalid\u001b[39m\u001b[38;5;124m'\u001b[39m))\n",
      "\u001b[1;31mNameError\u001b[0m: name 'N' is not defined"
     ]
    },
    {
     "data": {
      "text/plain": [
       "<Figure size 432x288 with 0 Axes>"
      ]
     },
     "metadata": {},
     "output_type": "display_data"
    }
   ],
   "source": [
    "#6th question\n",
    "# 6- Overall, does the volume of requests increase or decrease over time?\n",
    "import numpy as np\n",
    "import matplotlib.pyplot as plt\n",
    "\n",
    "day_number_list=np.array(timestamps).astype(int)//(24*60*60)\n",
    "days, day_event_counts = np.unique(day_number_list, return_counts=True)\n",
    "fig1 = plt.figure()\n",
    "plt.plot_date(x=days, y=day_event_counts)\n",
    "plt.show()\n",
    "fig2 = plt.figure()\n",
    "a, b = np.polyfit(days[6:], np.convolve(day_event_counts, np.ones(N)/N, mode='valid'), 1)\n",
    "N=7\n",
    "plt.plot_date(x=days[6:], y=np.convolve(day_event_counts, np.ones(N)/N, mode='valid'))\n",
    "plt.plot(days, a*days+b)\n",
    "plt.show()\n"
   ]
  },
  {
   "cell_type": "code",
   "execution_count": 11,
   "id": "ab94bb09",
   "metadata": {},
   "outputs": [
    {
     "name": "stderr",
     "output_type": "stream",
     "text": [
      "C:\\Users\\sepehr ahmadi\\AppData\\Local\\Temp\\ipykernel_2256\\2671539321.py:10: FutureWarning: Series.dt.weekofyear and Series.dt.week have been deprecated. Please use Series.dt.isocalendar().week instead.\n",
      "  df['week']=df['timestamp'].dt.week\n"
     ]
    },
    {
     "data": {
      "text/html": [
       "<div>\n",
       "<style scoped>\n",
       "    .dataframe tbody tr th:only-of-type {\n",
       "        vertical-align: middle;\n",
       "    }\n",
       "\n",
       "    .dataframe tbody tr th {\n",
       "        vertical-align: top;\n",
       "    }\n",
       "\n",
       "    .dataframe thead th {\n",
       "        text-align: right;\n",
       "    }\n",
       "</style>\n",
       "<table border=\"1\" class=\"dataframe\">\n",
       "  <thead>\n",
       "    <tr style=\"text-align: right;\">\n",
       "      <th></th>\n",
       "      <th>timestamp</th>\n",
       "      <th>year</th>\n",
       "      <th>month</th>\n",
       "      <th>week</th>\n",
       "      <th>day</th>\n",
       "      <th>weekday</th>\n",
       "      <th>hour</th>\n",
       "      <th>minute</th>\n",
       "      <th>second</th>\n",
       "    </tr>\n",
       "  </thead>\n",
       "  <tbody>\n",
       "    <tr>\n",
       "      <th>0</th>\n",
       "      <td>1970-01-01 16:43:18+00:00</td>\n",
       "      <td>1970</td>\n",
       "      <td>1</td>\n",
       "      <td>1</td>\n",
       "      <td>1</td>\n",
       "      <td>3</td>\n",
       "      <td>16</td>\n",
       "      <td>43</td>\n",
       "      <td>18</td>\n",
       "    </tr>\n",
       "    <tr>\n",
       "      <th>1</th>\n",
       "      <td>1970-01-01 16:46:10+00:00</td>\n",
       "      <td>1970</td>\n",
       "      <td>1</td>\n",
       "      <td>1</td>\n",
       "      <td>1</td>\n",
       "      <td>3</td>\n",
       "      <td>16</td>\n",
       "      <td>46</td>\n",
       "      <td>10</td>\n",
       "    </tr>\n",
       "    <tr>\n",
       "      <th>2</th>\n",
       "      <td>1970-01-01 16:46:37+00:00</td>\n",
       "      <td>1970</td>\n",
       "      <td>1</td>\n",
       "      <td>1</td>\n",
       "      <td>1</td>\n",
       "      <td>3</td>\n",
       "      <td>16</td>\n",
       "      <td>46</td>\n",
       "      <td>37</td>\n",
       "    </tr>\n",
       "    <tr>\n",
       "      <th>3</th>\n",
       "      <td>1970-01-01 16:46:36+00:00</td>\n",
       "      <td>1970</td>\n",
       "      <td>1</td>\n",
       "      <td>1</td>\n",
       "      <td>1</td>\n",
       "      <td>3</td>\n",
       "      <td>16</td>\n",
       "      <td>46</td>\n",
       "      <td>36</td>\n",
       "    </tr>\n",
       "    <tr>\n",
       "      <th>4</th>\n",
       "      <td>1970-01-01 16:56:21+00:00</td>\n",
       "      <td>1970</td>\n",
       "      <td>1</td>\n",
       "      <td>1</td>\n",
       "      <td>1</td>\n",
       "      <td>3</td>\n",
       "      <td>16</td>\n",
       "      <td>56</td>\n",
       "      <td>21</td>\n",
       "    </tr>\n",
       "  </tbody>\n",
       "</table>\n",
       "</div>"
      ],
      "text/plain": [
       "                  timestamp  year  month  week  day  weekday  hour  minute  \\\n",
       "0 1970-01-01 16:43:18+00:00  1970      1     1    1        3    16      43   \n",
       "1 1970-01-01 16:46:10+00:00  1970      1     1    1        3    16      46   \n",
       "2 1970-01-01 16:46:37+00:00  1970      1     1    1        3    16      46   \n",
       "3 1970-01-01 16:46:36+00:00  1970      1     1    1        3    16      46   \n",
       "4 1970-01-01 16:56:21+00:00  1970      1     1    1        3    16      56   \n",
       "\n",
       "   second  \n",
       "0      18  \n",
       "1      10  \n",
       "2      37  \n",
       "3      36  \n",
       "4      21  "
      ]
     },
     "execution_count": 11,
     "metadata": {},
     "output_type": "execute_result"
    }
   ],
   "source": [
    "#question 7\n",
    "# 7- Bonus: For each day calculate the average request time for all requests between 6:00 AM and 9:00 AM\n",
    "import pandas as pd\n",
    "from datetime import datetime\n",
    "import matplotlib.pyplot as plt\n",
    "pd_timestamp = [pd.Timestamp((datetime.strptime(login_times[i], '%Y-%m-%d %H:%M:%S').replace(tzinfo=timezone.utc)+timedelta(hours=-3.5)))for i in range(len(login_times))]\n",
    "df = pd.DataFrame(pd_timestamp,columns=['timestamp'])\n",
    "df['year'] = df['timestamp'].dt.year\n",
    "df['month'] = df['timestamp'].dt.month\n",
    "df['week']=df['timestamp'].dt.week\n",
    "df['day'] = df['timestamp'].dt.day\n",
    "df['weekday'] = df['timestamp'].dt.dayofweek\n",
    "df['hour'] = df['timestamp'].dt.hour\n",
    "df['minute'] = df['timestamp'].dt.minute\n",
    "df['second'] = df['timestamp'].dt.second\n",
    "df.head(5)"
   ]
  },
  {
   "cell_type": "code",
   "execution_count": 12,
   "id": "8cf2738a",
   "metadata": {},
   "outputs": [
    {
     "data": {
      "text/html": [
       "<div>\n",
       "<style scoped>\n",
       "    .dataframe tbody tr th:only-of-type {\n",
       "        vertical-align: middle;\n",
       "    }\n",
       "\n",
       "    .dataframe tbody tr th {\n",
       "        vertical-align: top;\n",
       "    }\n",
       "\n",
       "    .dataframe thead th {\n",
       "        text-align: right;\n",
       "    }\n",
       "</style>\n",
       "<table border=\"1\" class=\"dataframe\">\n",
       "  <thead>\n",
       "    <tr style=\"text-align: right;\">\n",
       "      <th></th>\n",
       "      <th>timestamp</th>\n",
       "      <th>year</th>\n",
       "      <th>month</th>\n",
       "      <th>week</th>\n",
       "      <th>day</th>\n",
       "      <th>weekday</th>\n",
       "      <th>hour</th>\n",
       "      <th>minute</th>\n",
       "      <th>second</th>\n",
       "    </tr>\n",
       "  </thead>\n",
       "  <tbody>\n",
       "    <tr>\n",
       "      <th>93137</th>\n",
       "      <td>1970-04-13 15:20:19+00:00</td>\n",
       "      <td>1970</td>\n",
       "      <td>4</td>\n",
       "      <td>16</td>\n",
       "      <td>13</td>\n",
       "      <td>0</td>\n",
       "      <td>15</td>\n",
       "      <td>20</td>\n",
       "      <td>19</td>\n",
       "    </tr>\n",
       "    <tr>\n",
       "      <th>93138</th>\n",
       "      <td>1970-04-13 15:13:56+00:00</td>\n",
       "      <td>1970</td>\n",
       "      <td>4</td>\n",
       "      <td>16</td>\n",
       "      <td>13</td>\n",
       "      <td>0</td>\n",
       "      <td>15</td>\n",
       "      <td>13</td>\n",
       "      <td>56</td>\n",
       "    </tr>\n",
       "    <tr>\n",
       "      <th>93139</th>\n",
       "      <td>1970-04-13 15:24:02+00:00</td>\n",
       "      <td>1970</td>\n",
       "      <td>4</td>\n",
       "      <td>16</td>\n",
       "      <td>13</td>\n",
       "      <td>0</td>\n",
       "      <td>15</td>\n",
       "      <td>24</td>\n",
       "      <td>2</td>\n",
       "    </tr>\n",
       "    <tr>\n",
       "      <th>93140</th>\n",
       "      <td>1970-04-13 15:27:38+00:00</td>\n",
       "      <td>1970</td>\n",
       "      <td>4</td>\n",
       "      <td>16</td>\n",
       "      <td>13</td>\n",
       "      <td>0</td>\n",
       "      <td>15</td>\n",
       "      <td>27</td>\n",
       "      <td>38</td>\n",
       "    </tr>\n",
       "    <tr>\n",
       "      <th>93141</th>\n",
       "      <td>1970-04-13 15:24:23+00:00</td>\n",
       "      <td>1970</td>\n",
       "      <td>4</td>\n",
       "      <td>16</td>\n",
       "      <td>13</td>\n",
       "      <td>0</td>\n",
       "      <td>15</td>\n",
       "      <td>24</td>\n",
       "      <td>23</td>\n",
       "    </tr>\n",
       "  </tbody>\n",
       "</table>\n",
       "</div>"
      ],
      "text/plain": [
       "                      timestamp  year  month  week  day  weekday  hour  \\\n",
       "93137 1970-04-13 15:20:19+00:00  1970      4    16   13        0    15   \n",
       "93138 1970-04-13 15:13:56+00:00  1970      4    16   13        0    15   \n",
       "93139 1970-04-13 15:24:02+00:00  1970      4    16   13        0    15   \n",
       "93140 1970-04-13 15:27:38+00:00  1970      4    16   13        0    15   \n",
       "93141 1970-04-13 15:24:23+00:00  1970      4    16   13        0    15   \n",
       "\n",
       "       minute  second  \n",
       "93137      20      19  \n",
       "93138      13      56  \n",
       "93139      24       2  \n",
       "93140      27      38  \n",
       "93141      24      23  "
      ]
     },
     "execution_count": 12,
     "metadata": {},
     "output_type": "execute_result"
    }
   ],
   "source": [
    "df.tail(5)"
   ]
  },
  {
   "cell_type": "code",
   "execution_count": 13,
   "id": "720e86be",
   "metadata": {
    "scrolled": true
   },
   "outputs": [
    {
     "data": {
      "image/png": "[encoded data removed]",
      "text/plain": [
       "<Figure size 432x288 with 1 Axes>"
      ]
     },
     "metadata": {
      "needs_background": "light"
     },
     "output_type": "display_data"
    }
   ],
   "source": [
    "df_6_to_9=df[(df.hour>6) & (df.hour<9)]\n",
    "# df_6_to_9.head(5)\n",
    "count6to9=df_6_to_9.groupby(['month', 'day']).count()\n",
    "count6to9.head()\n",
    "plt.figure()\n",
    "plt.plot(list(range(0,102)),count6to9['timestamp'])\n",
    "plt.show()\n"
   ]
  },
  {
   "cell_type": "code",
   "execution_count": 14,
   "id": "3fb92240",
   "metadata": {},
   "outputs": [
    {
     "name": "stdout",
     "output_type": "stream",
     "text": [
      "[ 9117  9607 10739 12528 17463 19089 14599]\n",
      "5\n"
     ]
    }
   ],
   "source": [
    "# question 8\n",
    "# 8- Bonus: Which day of week is the busiest?\n",
    "weekday,weekday_count=np.unique(np.array(df['weekday']),return_counts=True)\n",
    "print(weekday_count)\n",
    "print(np.argmax(weekday_count))\n"
   ]
  },
  {
   "cell_type": "code",
   "execution_count": 15,
   "id": "3ce6740d",
   "metadata": {},
   "outputs": [
    {
     "name": "stdout",
     "output_type": "stream",
     "text": [
      "[2436 5248 5005 4749 4825 5498 5918 7058 6554 7353 7410 8918 7306 8041\n",
      " 6512  311]\n"
     ]
    }
   ],
   "source": [
    "#question 9\n",
    "# 9- Bonus: Calculate the average number of requests for each of the 7*24 hours of the week.\n",
    "\n",
    "\n",
    "week,number_of_request_per_week=np.unique(np.array(df['week']),return_counts=True)\n",
    "print(number_of_request_per_week)\n"
   ]
  },
  {
   "cell_type": "code",
   "execution_count": 16,
   "id": "9cf857c9",
   "metadata": {},
   "outputs": [
    {
     "data": {
      "image/png": "[encoded data removed]",
      "text/plain": [
       "<Figure size 432x288 with 1 Axes>"
      ]
     },
     "metadata": {
      "needs_background": "light"
     },
     "output_type": "display_data"
    }
   ],
   "source": [
    "# question 10\n",
    "# 10- Bonus: Which dates other than the standard weekend days were holidays?\n",
    "plt.figure()\n",
    "plt.plot(days,day_event_counts)\n",
    "plt.grid()\n",
    "plt.show()"
   ]
  },
  {
   "cell_type": "code",
   "execution_count": 29,
   "id": "6894f59c",
   "metadata": {},
   "outputs": [
    {
     "name": "stdout",
     "output_type": "stream",
     "text": [
      "work day mean request number: 944.2567567567568\n",
      "holiday mean request number: 802.3103448275862\n",
      "           timestamp  year  week  weekday  hour  minute  second\n",
      "month day                                                      \n",
      "1     1          258   258   258      258   258     258     258\n",
      "      7          680   680   680      680   680     680     680\n",
      "      8          713   713   713      713   713     713     713\n",
      "      14         566   566   566      566   566     566     566\n",
      "      15         665   665   665      665   665     665     665\n",
      "      21         541   541   541      541   541     541     541\n",
      "      22         682   682   682      682   682     682     682\n",
      "      28         622   622   622      622   622     622     622\n",
      "      29         688   688   688      688   688     688     688\n",
      "2     4          524   524   524      524   524     524     524\n",
      "      5          737   737   737      737   737     737     737\n",
      "      11         719   719   719      719   719     719     719\n",
      "      12         894   894   894      894   894     894     894\n",
      "      18         793   793   793      793   793     793     793\n",
      "      19         999   999   999      999   999     999     999\n",
      "      25         745   745   745      745   745     745     745\n",
      "      26         888   888   888      888   888     888     888\n",
      "3     4          879   879   879      879   879     879     879\n",
      "      5          964   964   964      964   964     964     964\n",
      "      11         790   790   790      790   790     790     790\n",
      "      12         842   842   842      842   842     842     842\n",
      "      18        1269  1269  1269     1269  1269    1269    1269\n",
      "      19        1403  1403  1403     1403  1403    1403    1403\n",
      "      25         763   763   763      763   763     763     763\n",
      "      26        1004  1004  1004     1004  1004    1004    1004\n",
      "4     1         1112  1112  1112     1112  1112    1112    1112\n",
      "      2          926   926   926      926   926     926     926\n",
      "      8          736   736   736      736   736     736     736\n",
      "      9          865   865   865      865   865     865     865\n",
      "           timestamp  year  week  weekday  hour  minute  second\n",
      "month day                                                      \n",
      "1     2          742   742   742      742   742     742     742\n",
      "      3          860   860   860      860   860     860     860\n",
      "      4          576   576   576      576   576     576     576\n",
      "      5          467   467   467      467   467     467     467\n",
      "      6          572   572   572      572   572     572     572\n",
      "...              ...   ...   ...      ...   ...     ...     ...\n",
      "4     7          597   597   597      597   597     597     597\n",
      "      10        1130  1130  1130     1130  1130    1130    1130\n",
      "      11        1455  1455  1455     1455  1455    1455    1455\n",
      "      12        1061  1061  1061     1061  1061    1061    1061\n",
      "      13         311   311   311      311   311     311     311\n",
      "\n",
      "[74 rows x 7 columns]\n"
     ]
    }
   ],
   "source": [
    "# question 10\n",
    "# 10- Bonus: Which dates other than the standard weekend days were holidays?\n",
    "#  Monday=0, Sunday=6\n",
    "\n",
    "df_workday=df.loc[(df['weekday']==6)|(df['weekday']==5)|(df['weekday']==0)|(df['weekday']==1)|(df['weekday']==4)]\n",
    "workday_count=df_workday.groupby(['month', 'day']).count()\n",
    "workday_count_mean=workday_count.mean()['timestamp']\n",
    "print('work day mean request number:',workday_count_mean)\n",
    "df_holiday=df.loc[(df['weekday']==2)|(df['weekday']==3)]\n",
    "holiday_count=df_holiday.groupby(['month', 'day']).count()\n",
    "holiday_count_mean=holiday_count.mean()['timestamp']\n",
    "print('holiday mean request number:',holiday_count_mean)\n",
    "print()\n",
    "print(holiday_count)\n",
    "print(workday_count)"
   ]
  },
  {
   "cell_type": "code",
   "execution_count": null,
   "id": "62e7c7b8",
   "metadata": {},
   "outputs": [],
   "source": []
  }
 ],
 "metadata": {
  "kernelspec": {
   "display_name": "Python 3 (ipykernel)",
   "language": "python",
   "name": "python3"
  },
  "language_info": {
   "codemirror_mode": {
    "name": "ipython",
    "version": 3
   },
   "file_extension": ".py",
   "mimetype": "text/x-python",
   "name": "python",
   "nbconvert_exporter": "python",
   "pygments_lexer": "ipython3",
   "version": "3.9.12"
  }
 },
 "nbformat": 4,
 "nbformat_minor": 5
}
