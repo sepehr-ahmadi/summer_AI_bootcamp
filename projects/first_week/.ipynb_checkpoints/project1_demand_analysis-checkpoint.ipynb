{
 "cells": [
  {
   "cell_type": "code",
   "execution_count": 4,
   "id": "1186cf64",
   "metadata": {},
   "outputs": [],
   "source": [
    "import json\n",
    "import numpy as np\n",
    "  \n",
    "# read json data file\n",
    "f=open('taxi_requests.json')\n",
    "data = json.load(f)\n",
    "f.close()\n",
    "\n",
    "login_times=data['request_time']\n",
    "\n",
    "# uncomment next line to see how the data looks like\n",
    "# display(login_times) \n",
    "# display(data)"
   ]
  },
  {
   "cell_type": "code",
   "execution_count": 5,
   "id": "32d35eb7",
   "metadata": {},
   "outputs": [],
   "source": [
    "# convert time string to timestamps\n",
    "from datetime import datetime, timezone\n",
    "# timestamps=[datetime.strptime(login_times[i], '%Y-%m-%d %H:%M:%S').timestamp() for i in range(len(login_times))]\n",
    "# timestamps\n",
    "timestamps=[datetime.strptime(login_times[i], '%Y-%m-%d %H:%M:%S').replace(tzinfo=timezone.utc).timestamp() for i in range(len(login_times))]\n",
    "# print(timestamps)"
   ]
  },
  {
   "cell_type": "markdown",
   "id": "d11ea248",
   "metadata": {},
   "source": [
    "# Written questions\n",
    "\n",
    "Please search online and read the documentation for strptime() and timestamp() and write down short answers to the following questions:\n",
    "\n",
    "A- What does the previous cell do? it uses strptime to get timestamps\n",
    "\n",
    "B- What does the concept of \"timestamp\" mean? What are its type and unit?\n",
    "\n",
    "C- Is the variable \"timestamps\" a list or a numpy array?\n",
    "\n",
    "D- Which day of week (Sunday, Monday, ...) is 1970-01-01?\n",
    "\n",
    "E- Which function can convert a timestamp back to datetime?\n"
   ]
  },
  {
   "cell_type": "markdown",
   "id": "33c6c4d8",
   "metadata": {},
   "source": [
    "# Project questions\n",
    "\n",
    "Explore data, write code, and search online to answer the following questions about the data:\n",
    "\n",
    "1- How many days are there in the data?\n",
    "\n",
    "2- Which date was the busiest date (the day with the most requests)? Which date was the second busiest date?\n",
    "\n",
    "3- Which hour was the busiest hour (the hour with the most requests)?\n",
    "\n",
    "4- Are there any two requests that happened at the same time?\n",
    "\n",
    "5- What is the longest gap between two consequent requests?\n",
    "\n",
    "6- Overall, does the volume of requests increase or decrease over time?\n",
    "\n",
    "7- Bonus: For each day calculate the average request time for all requests between 6:00 AM and 9:00 AM\n",
    "\n",
    "8- Bonus: Which day of week is the busiest?\n",
    "\n",
    "9- Bonus: Calculate the average number of requests for each of the 7*24 hours of the week.\n",
    "\n",
    "10- Bonus: Which dates other than the standard weekend days were holidays?"
   ]
  },
  {
   "cell_type": "markdown",
   "id": "590c2ad9",
   "metadata": {},
   "source": [
    "# Sample answer to problem 2\n",
    "\n",
    "Here is an answer to problem 2. We advise to try to solve this problem before you see the answer below\n"
   ]
  },
  {
   "cell_type": "code",
   "execution_count": 6,
   "id": "60b41f87",
   "metadata": {},
   "outputs": [
    {
     "name": "stdout",
     "output_type": "stream",
     "text": [
      "number of days in data: 103\n"
     ]
    }
   ],
   "source": [
    "# the first question:\n",
    "import numpy as np\n",
    "day_number_list=np.array(timestamps).astype(int)//(24*60*60)\n",
    "days, day_event_counts = np.unique(day_number_list, return_counts=True)\n",
    "days_in_data=len(days)\n",
    "print('number of days in data:',days_in_data)"
   ]
  },
  {
   "cell_type": "code",
   "execution_count": 7,
   "id": "dd16a91f",
   "metadata": {},
   "outputs": [
    {
     "name": "stdout",
     "output_type": "stream",
     "text": [
      "the busiest day is day number  93\n",
      "the second busiest day is day number 72\n"
     ]
    }
   ],
   "source": [
    "# the second question:\n",
    "day_number_list=np.array(timestamps).astype(int)//(24*60*60)\n",
    "\n",
    "days, day_event_counts = np.unique(day_number_list, return_counts=True) \n",
    "\n",
    "day_with_maximum_event_index=np.argmax(day_event_counts) \n",
    "day_with_second_max_event_index=np.argpartition(day_event_counts.flatten(), -2)[-2]\n",
    "\n",
    "print(\"the busiest day is day number \",days[day_with_maximum_event_index])\n",
    "print(\"the second busiest day is day number\",days[day_with_second_max_event_index])"
   ]
  },
  {
   "cell_type": "code",
   "execution_count": 8,
   "id": "755e1dac",
   "metadata": {},
   "outputs": [
    {
     "name": "stdout",
     "output_type": "stream",
     "text": [
      "the busiest hour is   22\n"
     ]
    }
   ],
   "source": [
    "# third question\n",
    "second_in_day_list=(np.array(timestamps).astype(int)%(24*60*60))\n",
    "hour_number_list=np.array(second_in_day_list).astype(int)//(60*60)\n",
    "\n",
    "hours, hour_event_counts = np.unique(hour_number_list, return_counts=True)\n",
    "\n",
    "hour_with_maximum_event_index=np.argmax(hour_event_counts) \n",
    "print(\"the busiest hour is  \",hours[hour_with_maximum_event_index])"
   ]
  },
  {
   "cell_type": "code",
   "execution_count": 21,
   "id": "76f59245",
   "metadata": {},
   "outputs": [
    {
     "name": "stdout",
     "output_type": "stream",
     "text": [
      "dict_keys([125992, 131268, 140907, 144876, 165816, 166276, 167434, 167995, 173944, 191459, 256678, 266038, 266852, 269537, 270540, 278968, 474979, 499607, 510352, 526676, 558971, 564703, 597004, 601409, 622226, 681253, 686638, 687687, 696195, 696685, 699634, 736854, 754616, 766482, 770207, 782134, 785440, 787614, 792078, 818903, 829338, 866503, 881837, 883897, 920162, 920527, 924299, 991873, 993561, 1034944, 1075593, 1166390, 1166886, 1261157, 1261363, 1303168, 1339052, 1339774, 1360906, 1363492, 1383469, 1388130, 1391605, 1394629, 1396457, 1397259, 1401908, 1434437, 1435632, 1454068, 1470586, 1471689, 1476355, 1482274, 1483494, 1483691, 1484586, 1484813, 1485095, 1485174, 1486823, 1525739, 1560516, 1612346, 1631146, 1737296, 1770620, 1895708, 1907428, 1945290, 1945644, 1987228, 1991650, 1996796, 1997979, 1999404, 1999634, 2001321, 2008474, 2038848, 2067031, 2076478, 2082978, 2084195, 2099563, 2125961, 2333051, 2335812, 2340498, 2375468, 2375493, 2386017, 2408103, 2422851, 2437290, 2459061, 2466334, 2499022, 2507301, 2513409, 2548966, 2551661, 2582375, 2586317, 2596409, 2597860, 2599461, 2605154, 2643128, 2648024, 2651726, 2658396, 2669213, 2671100, 2688652, 2695347, 2697762, 2775350, 2777616, 2862465, 2893399, 2893966, 2901595, 3064987, 3114925, 3124257, 3145480, 3152187, 3155984, 3171650, 3180488, 3183360, 3187411, 3191748, 3191757, 3191840, 3193941, 3195033, 3195505, 3200261, 3202340, 3204505, 3207973, 3208065, 3210572, 3210681, 3213858, 3214106, 3214577, 3215051, 3215133, 3279032, 3284652, 3286922, 3290223, 3295482, 3295693, 3295905, 3298119, 3300126, 3301582, 3303449, 3320506, 3334372, 3369756, 3394418, 3409532, 3415429, 3455385, 3498658, 3531914, 3539650, 3556012, 3582211, 3582754, 3588007, 3597038, 3624708, 3669413, 3670809, 3675800, 3703939, 3708923, 3710634, 3716189, 3729776, 3730579, 3756185, 3757459, 3759386, 3760048, 3797363, 3798302, 3798429, 3807287, 3810159, 3810211, 3811959, 3816353, 3816487, 3817569, 3818676, 3854565, 3883300, 3892846, 3893578, 3899760, 3901687, 3945454, 3971394, 4012841, 4015680, 4017235, 4053682, 4058372, 4067032, 4151139, 4193326, 4206197, 4237853, 4238466, 4241323, 4242531, 4274643, 4304964, 4314628, 4315277, 4316210, 4318696, 4324344, 4325053, 4328571, 4362365, 4372774, 4375966, 4385864, 4397870, 4399462, 4402640, 4403282, 4404118, 4407068, 4408060, 4409722, 4410070, 4412796, 4414320, 4418635, 4419011, 4420545, 4420697, 4420868, 4421016, 4422179, 4424107, 4424553, 4424635, 4462916, 4478925, 4479609, 4484026, 4485508, 4488537, 4488852, 4488903, 4491832, 4494149, 4496836, 4497059, 4498322, 4502838, 4503073, 4503082, 4505224, 4505329, 4505354, 4507898, 4508790, 4508828, 4509806, 4510874, 4510971, 4511257, 4514608, 4527330, 4541741, 4547106, 4549814, 4549969, 4562196, 4565831, 4577645, 4618938, 4621423, 4622354, 4623192, 4666773, 4710652, 4729246, 4748997, 4749425, 4751104, 4752413, 4756420, 4791521, 4796386, 4809172, 4825983, 4830156, 4876319, 4880474, 4881107, 4910010, 4912737, 4918005, 4919488, 4922622, 4923033, 4923321, 4925869, 4962913, 4963515, 4967819, 5003286, 5003962, 5005441, 5005801, 5008099, 5008636, 5009117, 5016805, 5017254, 5020534, 5022937, 5023738, 5027119, 5031077, 5058887, 5080557, 5089771, 5091687, 5109226, 5109240, 5109270, 5110064, 5110390, 5113610, 5113652, 5114025, 5114231, 5114472, 5114527, 5114651, 5114883, 5140349, 5140814, 5151903, 5154164, 5164923, 5179908, 5191958, 5260442, 5265313, 5275405, 5310189, 5349429, 5353434, 5356467, 5365649, 5395864, 5400366, 5406614, 5430572, 5432647, 5433523, 5434110, 5434890, 5435595, 5437079, 5437652, 5441953, 5443145, 5485889, 5489302, 5520323, 5521297, 5522326, 5525160, 5525451, 5525868, 5527442, 5532747, 5533710, 5534478, 5535581, 5535663, 5535963, 5570490, 5571412, 5574537, 5579926, 5593959, 5596648, 5609859, 5611422, 5619632, 5620553, 5621564, 5622796, 5622965, 5623643, 5624271, 5625394, 5627554, 5629787, 5634263, 5635216, 5636631, 5665899, 5672199, 5677203, 5677632, 5681021, 5683096, 5694215, 5697348, 5698833, 5699805, 5705225, 5707737, 5710822, 5711041, 5711353, 5711882, 5716010, 5719987, 5720270, 5720319, 5720512, 5752495, 5760245, 5766104, 5771275, 5774948, 5827546, 5831034, 5920796, 5954754, 5965424, 5966392, 5977886, 6003415, 6003507, 6014199, 6027265, 6052313, 6055224, 6055988, 6098110, 6122603, 6123312, 6127125, 6139812, 6177596, 6189243, 6202167, 6212002, 6212017, 6214396, 6215090, 6215455, 6219260, 6221499, 6222317, 6226380, 6230256, 6230911, 6231098, 6231124, 6231278, 6232872, 6237810, 6238412, 6280950, 6283097, 6283628, 6283717, 6284752, 6286687, 6305523, 6307212, 6309680, 6312072, 6315496, 6317200, 6320656, 6322434, 6324154, 6324530, 6326946, 6364962, 6372459, 6384406, 6384646, 6390920, 6393652, 6394897, 6396228, 6440879, 6469437, 6470016, 6479571, 6480604, 6480746, 6482600, 6482932, 6483699, 6484208, 6484233, 6484266, 6485561, 6485939, 6515365, 6515988, 6516990, 6519974, 6524282, 6529596, 6534372, 6551426, 6554313, 6556524, 6557117, 6559754, 6560857, 6561515, 6574471, 6574744, 6578817, 6608646, 6608767, 6610768, 6633906, 6645480, 6646261, 6646335, 6647386, 6648353, 6648484, 6651854, 6656576, 6692469, 6693530, 6693746, 6693933, 6694608, 6695528, 6695754, 6696052, 6714209, 6719463, 6721799, 6724070, 6737229, 6737693, 6738169, 6743337, 6744615, 6744945, 6745671, 6747897, 6816305, 6817282, 6826822, 6831173, 6833175, 6833572, 6833769, 6833777, 6834441, 6834668, 6837174, 6841744, 6841942, 6846680, 6917903, 6918245, 6918670, 6919413, 6920294, 6921292, 6923291, 6924350, 6925670, 6926516, 6926599, 6927306, 6928158, 6956597, 6965517, 6969647, 6976130, 6979085, 6989551, 6992347, 6998468, 7040026, 7040859, 7076790, 7089606, 7091075, 7091372, 7121783, 7125638, 7128924, 7129403, 7166278, 7166394, 7177415, 7225338, 7252740, 7262427, 7262665, 7275105, 7300276, 7302566, 7330094, 7336340, 7336618, 7340843, 7349681, 7386663, 7414724, 7428727, 7430602, 7432929, 7433714, 7438565, 7439486, 7440946, 7440961, 7441121, 7443890, 7444954, 7447057, 7447115, 7476416, 7480425, 7486012, 7488408, 7517582, 7521975, 7523348, 7524994, 7525484, 7525777, 7527106, 7527295, 7527614, 7528076, 7529097, 7530117, 7530873, 7531034, 7531200, 7532967, 7534370, 7534843, 7541069, 7563765, 7581228, 7583738, 7601453, 7606754, 7644707, 7691553, 7696659, 7701169, 7734731, 7735424, 7766503, 7771703, 7771716, 7773238, 7774246, 7780777, 7789122, 7811623, 7815672, 7816806, 7818743, 7862660, 7867404, 7870892, 7904540, 7905778, 7907619, 7945533, 7960611, 7991155, 7993173, 7994033, 7994044, 7994714, 7996475, 8001758, 8009624, 8012109, 8012415, 8013658, 8020054, 8022325, 8024423, 8025745, 8026362, 8030672, 8030967, 8031259, 8031402, 8031761, 8031913, 8033622, 8036349, 8036657, 8036672, 8037412, 8037494, 8037989, 8038975, 8039860, 8039882, 8040167, 8040172, 8040232, 8041394, 8041429, 8043326, 8044817, 8046064, 8046848, 8048637, 8050362, 8051231, 8051875, 8052566, 8052646, 8053055, 8053216, 8053226, 8053413, 8053584, 8053952, 8054175, 8054490, 8054495, 8054583, 8055547, 8055673, 8056352, 8056427, 8057039, 8058141, 8058562, 8083440, 8088262, 8097157, 8121673, 8122534, 8123677, 8128342, 8131589, 8134447, 8135063, 8136024, 8136571, 8136690, 8137070, 8137715, 8138682, 8139598, 8168091, 8197711, 8248785, 8335360, 8335596, 8375867, 8385897, 8422465, 8428581, 8435657, 8463312, 8466118, 8469281, 8506407, 8513063, 8513549, 8544493, 8548397, 8551155, 8552586, 8553914, 8556877, 8557551, 8566662, 8596638, 8597770, 8598734, 8631479, 8633789, 8637694, 8640635, 8640768, 8645803, 8646127, 8646854, 8648465, 8652187, 8652950, 8652995, 8653903, 8655962, 8656635, 8709652, 8711924, 8712320, 8712641, 8719699, 8724462, 8727706, 8728582, 8732047, 8733230, 8734784, 8737163, 8737623, 8738569, 8740450, 8740995, 8741891, 8741945, 8744134, 8745086, 8745561, 8745861, 8783203, 8788341, 8857426, 8862258])\n"
     ]
    }
   ],
   "source": [
    "# 4th question\n",
    "def uni(records_array):\n",
    "    # np_unique test\n",
    "    records_array=np.array(records_array).astype(int)\n",
    "\n",
    "    vals, count = np.unique(records_array, return_counts=True)\n",
    "    same_timestamp_dict=dict()\n",
    "    for i in range(len(count)):\n",
    "        if count[i]>1:\n",
    "            same_timestamp_dict[vals[i]]=count[i]\n",
    "    return same_timestamp_dict\n",
    "\n",
    "print(uni(timestamps).keys())"
   ]
  },
  {
   "cell_type": "code",
   "execution_count": 25,
   "id": "48031f01",
   "metadata": {},
   "outputs": [
    {
     "name": "stdout",
     "output_type": "stream",
     "text": [
      "5999.0\n"
     ]
    }
   ],
   "source": [
    "#5th question\n",
    "diff=np.ediff1d(np.array(timestamps))\n",
    "print(np.amax(np.abs(diff)))"
   ]
  },
  {
   "cell_type": "code",
   "execution_count": 26,
   "id": "24d4a15d",
   "metadata": {},
   "outputs": [
    {
     "data": {
      "image/png": "[encoded data removed]",
      "text/plain": [
       "<Figure size 432x288 with 1 Axes>"
      ]
     },
     "metadata": {
      "needs_background": "light"
     },
     "output_type": "display_data"
    }
   ],
   "source": [
    "#6th question\n",
    "import numpy as np\n",
    "import matplotlib.pyplot as plt\n",
    "\n",
    "day_number_list=np.array(timestamps).astype(int)//(24*60*60)\n",
    "days, day_event_counts = np.unique(day_number_list, return_counts=True)\n",
    "fig = plt.figure()\n",
    "plt.plot_date(x=days, y=day_event_counts)\n",
    "plt.show()"
   ]
  },
  {
   "cell_type": "code",
   "execution_count": null,
   "id": "ab94bb09",
   "metadata": {},
   "outputs": [],
   "source": []
  }
 ],
 "metadata": {
  "kernelspec": {
   "display_name": "Python 3 (ipykernel)",
   "language": "python",
   "name": "python3"
  },
  "language_info": {
   "codemirror_mode": {
    "name": "ipython",
    "version": 3
   },
   "file_extension": ".py",
   "mimetype": "text/x-python",
   "name": "python",
   "nbconvert_exporter": "python",
   "pygments_lexer": "ipython3",
   "version": "3.9.12"
  }
 },
 "nbformat": 4,
 "nbformat_minor": 5
}
