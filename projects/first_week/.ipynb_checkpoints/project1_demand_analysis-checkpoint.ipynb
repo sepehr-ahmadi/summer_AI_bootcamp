{
 "cells": [
  {
   "cell_type": "code",
   "execution_count": 12,
   "id": "1186cf64",
   "metadata": {},
   "outputs": [],
   "source": [
    "import json\n",
    "import numpy as np\n",
    "  \n",
    "# read json data file\n",
    "f=open('taxi_requests.json')\n",
    "data = json.load(f)\n",
    "f.close()\n",
    "\n",
    "login_times=data['request_time']\n",
    "\n",
    "# uncomment next line to see how the data looks like\n",
    "# display(login_times) \n",
    "# display(data)"
   ]
  },
  {
   "cell_type": "code",
   "execution_count": 13,
   "id": "32d35eb7",
   "metadata": {},
   "outputs": [],
   "source": [
    "# convert time string to timestamps\n",
    "from datetime import datetime, timezone\n",
    "# timestamps=[datetime.strptime(login_times[i], '%Y-%m-%d %H:%M:%S').timestamp() for i in range(len(login_times))]\n",
    "# timestamps\n",
    "timestamps=[datetime.strptime(login_times[i], '%Y-%m-%d %H:%M:%S').replace(tzinfo=timezone.utc).timestamp() for i in range(len(login_times))]\n",
    "# print(timestamps)"
   ]
  },
  {
   "cell_type": "markdown",
   "id": "d11ea248",
   "metadata": {},
   "source": [
    "# Written questions\n",
    "\n",
    "Please search online and read the documentation for strptime() and timestamp() and write down short answers to the following questions:\n",
    "\n",
    "A- What does the previous cell do? it uses strptime to get timestamps\n",
    "\n",
    "B- What does the concept of \"timestamp\" mean? What are its type and unit?\n",
    "\n",
    "C- Is the variable \"timestamps\" a list or a numpy array?\n",
    "\n",
    "D- Which day of week (Sunday, Monday, ...) is 1970-01-01?\n",
    "\n",
    "E- Which function can convert a timestamp back to datetime?\n"
   ]
  },
  {
   "cell_type": "markdown",
   "id": "33c6c4d8",
   "metadata": {},
   "source": [
    "# Project questions\n",
    "\n",
    "Explore data, write code, and search online to answer the following questions about the data:\n",
    "\n",
    "1- How many days are there in the data?\n",
    "\n",
    "2- Which date was the busiest date (the day with the most requests)? Which date was the second busiest date?\n",
    "\n",
    "3- Which hour was the busiest hour (the hour with the most requests)?\n",
    "\n",
    "4- Are there any two requests that happened at the same time?\n",
    "\n",
    "5- What is the longest gap between two consequent requests?\n",
    "\n",
    "6- Overall, does the volume of requests increase or decrease over time?\n",
    "\n",
    "7- Bonus: For each day calculate the average request time for all requests between 6:00 AM and 9:00 AM\n",
    "\n",
    "8- Bonus: Which day of week is the busiest?\n",
    "\n",
    "9- Bonus: Calculate the average number of requests for each of the 7*24 hours of the week.\n",
    "\n",
    "10- Bonus: Which dates other than the standard weekend days were holidays?"
   ]
  },
  {
   "cell_type": "markdown",
   "id": "590c2ad9",
   "metadata": {},
   "source": [
    "# Sample answer to problem 2\n",
    "\n",
    "Here is an answer to problem 2. We advise to try to solve this problem before you see the answer below\n"
   ]
  },
  {
   "cell_type": "code",
   "execution_count": 22,
   "id": "a8ccac85",
   "metadata": {},
   "outputs": [
    {
     "name": "stdout",
     "output_type": "stream",
     "text": [
      "number of days in data: 103\n"
     ]
    }
   ],
   "source": [
    "# the first question:\n",
    "day_number_list=np.array(timestamps).astype(int)//(24*60*60)\n",
    "days, day_event_counts = np.unique(day_number_list, return_counts=True)\n",
    "days_in_data=len(days)\n",
    "print('number of days in data:',days_in_data)"
   ]
  },
  {
   "cell_type": "code",
   "execution_count": 24,
   "id": "dd16a91f",
   "metadata": {},
   "outputs": [
    {
     "name": "stdout",
     "output_type": "stream",
     "text": [
      "the busiest day is day number  93\n",
      "the second busiest day is day number 72\n"
     ]
    }
   ],
   "source": [
    "# the second question:\n",
    "day_number_list=np.array(timestamps).astype(int)//(24*60*60)\n",
    "\n",
    "days, day_event_counts = np.unique(day_number_list, return_counts=True) \n",
    "\n",
    "day_with_maximum_event_index=np.argmax(day_event_counts) \n",
    "day_with_second_max_event_index=np.argpartition(day_event_counts.flatten(), -2)[-2]\n",
    "\n",
    "print(\"the busiest day is day number \",days[day_with_maximum_event_index])\n",
    "print(\"the second busiest day is day number\",days[day_with_second_max_event_index])"
   ]
  },
  {
   "cell_type": "code",
   "execution_count": 29,
   "id": "755e1dac",
   "metadata": {},
   "outputs": [
    {
     "name": "stdout",
     "output_type": "stream",
     "text": [
      "the busiest hour is   22\n"
     ]
    }
   ],
   "source": [
    "# third question\n",
    "second_in_day_list=(np.array(timestamps).astype(int)%(24*60*60))\n",
    "hour_number_list=np.array(second_in_day_list).astype(int)//(60*60)\n",
    "\n",
    "hours, hour_event_counts = np.unique(hour_number_list, return_counts=True)\n",
    "\n",
    "hour_with_maximum_event_index=np.argmax(hour_event_counts) \n",
    "print(\"the busiest hour is  \",hours[hour_with_maximum_event_index])"
   ]
  },
  {
   "cell_type": "code",
   "execution_count": null,
   "id": "76f59245",
   "metadata": {},
   "outputs": [],
   "source": []
  }
 ],
 "metadata": {
  "kernelspec": {
   "display_name": "Python 3 (ipykernel)",
   "language": "python",
   "name": "python3"
  },
  "language_info": {
   "codemirror_mode": {
    "name": "ipython",
    "version": 3
   },
   "file_extension": ".py",
   "mimetype": "text/x-python",
   "name": "python",
   "nbconvert_exporter": "python",
   "pygments_lexer": "ipython3",
   "version": "3.9.12"
  }
 },
 "nbformat": 4,
 "nbformat_minor": 5
}
