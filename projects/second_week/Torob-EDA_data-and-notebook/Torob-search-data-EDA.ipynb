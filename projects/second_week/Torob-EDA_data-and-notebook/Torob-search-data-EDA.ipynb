{
 "cells": [
  {
   "cell_type": "markdown",
   "id": "08ef7026-8c46-426c-b687-a95985c117e7",
   "metadata": {
    "tags": []
   },
   "source": [
    "<img style=\"float: right;\" src=\"attachment:04f31c53-483e-4bae-a4ef-aeed484c3692.png\">\n",
    "\n",
    "# Exploratory Analysis of Torob Search Data\n",
    "\n",
    "Greetings and a warm welcome from Torob Data Team!\n",
    "\n",
    "We are very excited to share with you the Torob's search data for the task of exploratory data analysis as part of OpenAI Summer School 2022. The data consists of users' search logs as well as their clicks on search results in Torob. It also includes information for a sample of the products and product categories. In this notebook, you will analyze this data and answer some questions with the goal of practicing your data analysis skills (especially the ability to work with Pandas) and also extract insightful information from our users' searches and their interaction with the search results.\n",
    "\n",
    "Note that our original daily search data is very large (you may need gigabytes of RAM and disk space to handle the data of just one day!). So, for practical purposes and due to the size constraints, the original data has been sampled and reduced, and what you'll work with is just a small fraction of the data of one week. \n",
    "\n",
    "The sections marked with a triangular flag (🚩) are those which you need to read and answer. Allright, without further ado let's get started!\n",
    "\n",
    "(NOTE: Here is the link to the guideline document of the project: https://docs.google.com/document/d/1r46gWcSXwvxxpS92cOqqA7pLuX1Vq673rokgwtnafb8/edit?usp=sharing)"
   ]
  },
  {
   "cell_type": "markdown",
   "id": "fade52bf-d9c1-478d-b67c-cde75938b09a",
   "metadata": {},
   "source": [
    "---"
   ]
  },
  {
   "cell_type": "markdown",
   "id": "0585c2a0-1e1e-4d39-8d51-e15ba19c991a",
   "metadata": {},
   "source": [
    "## Import modules/libraries\n",
    "\n",
    "So, as usual, we first need to import the neccessary libraries and modules which we would use:"
   ]
  },
  {
   "cell_type": "code",
   "execution_count": 135,
   "id": "58237104-a28e-4ca4-883b-2f534ee8cc64",
   "metadata": {},
   "outputs": [],
   "source": [
    "import pandas as pd"
   ]
  },
  {
   "cell_type": "markdown",
   "id": "f093fda3-f41e-4a78-b18d-5d88a3680f2d",
   "metadata": {},
   "source": [
    "---"
   ]
  },
  {
   "cell_type": "markdown",
   "id": "d5e3e7b2-10e0-4f11-8671-70b47e299af0",
   "metadata": {
    "tags": []
   },
   "source": [
    "## Load and Inspect Data\n",
    "\n",
    "In this section we load the data from given files, and then we take a quick look at their structure and make sure they have been loaded properly."
   ]
  },
  {
   "cell_type": "markdown",
   "id": "74a0b0e7-6c09-4f39-8ee4-1149d9ca48d4",
   "metadata": {},
   "source": [
    "### 🚩Load data from disk\n",
    "\n",
    "First, we need to load the data from disk as Pandas dataframes. There are four different dataframes which need to be loaded:\n",
    "- Search logs, stored in `search_logs.pkl`.\n",
    "- Search click logs, stored in `search_click_logs.pkl`.\n",
    "- Products info, stored in `products.pkl`.\n",
    "- Product categories info, stored in `categories.pkl`.\n",
    "\n",
    "Let's load them all and store each of them in a separate variable:"
   ]
  },
  {
   "cell_type": "markdown",
   "id": "de4f1863-860f-4e85-a59b-1d76423d0761",
   "metadata": {},
   "source": [
    "**Write the answer below:** \\\n",
    "(Hint: Since they are stored as *pickled* files, we can easily use `pd.read_pickle` function.)"
   ]
  },
  {
   "cell_type": "code",
   "execution_count": 136,
   "id": "cedef7aa-0c8f-4761-a1c9-999adb77bdf8",
   "metadata": {},
   "outputs": [],
   "source": [
    "df_search_logs=pd.read_pickle('data/search_logs.pkl')\n",
    "df_search_click_logs=pd.read_pickle('data/search_click_logs.pkl')\n",
    "df_products=pd.read_pickle('data/products.pkl')\n",
    "df_categories=pd.read_pickle('data/categories.pkl')\n"
   ]
  },
  {
   "cell_type": "markdown",
   "id": "09fc00d6-0d63-4087-a7a5-bbcb9a22f022",
   "metadata": {
    "tags": []
   },
   "source": [
    "### 🚩A quick peek at the data\n",
    "\n",
    "To quickly get a feel of the strucure of the data and see if it has been loaded correctly, we can check the first few rows of the dataframes. Let's take a look at the first five rows of each dataframe we loaded in the previous step:"
   ]
  },
  {
   "cell_type": "markdown",
   "id": "0c66d0e0-3e59-4c9b-98c0-c271fbfe7b71",
   "metadata": {},
   "source": [
    "**Write the answer below:** \\\n",
    "(Hint: heads or tails?!)"
   ]
  },
  {
   "cell_type": "code",
   "execution_count": 137,
   "id": "4ade041d-ed7a-4445-ad58-0d9243be2cfc",
   "metadata": {},
   "outputs": [
    {
     "data": {
      "text/html": [
       "<div>\n",
       "<style scoped>\n",
       "    .dataframe tbody tr th:only-of-type {\n",
       "        vertical-align: middle;\n",
       "    }\n",
       "\n",
       "    .dataframe tbody tr th {\n",
       "        vertical-align: top;\n",
       "    }\n",
       "\n",
       "    .dataframe thead th {\n",
       "        text-align: right;\n",
       "    }\n",
       "</style>\n",
       "<table border=\"1\" class=\"dataframe\">\n",
       "  <thead>\n",
       "    <tr style=\"text-align: right;\">\n",
       "      <th></th>\n",
       "      <th>id</th>\n",
       "      <th>raw_query</th>\n",
       "      <th>result</th>\n",
       "      <th>datetime</th>\n",
       "      <th>category_id</th>\n",
       "      <th>user_id</th>\n",
       "    </tr>\n",
       "  </thead>\n",
       "  <tbody>\n",
       "    <tr>\n",
       "      <th>0</th>\n",
       "      <td>qahft</td>\n",
       "      <td>سرویس ملامین نشکن</td>\n",
       "      <td>[7840591, 1784875, 6716428, 6135112, 7103618, ...</td>\n",
       "      <td>2022-05-16 13:17:22.701000+00:00</td>\n",
       "      <td>NaN</td>\n",
       "      <td>MPOHZ</td>\n",
       "    </tr>\n",
       "    <tr>\n",
       "      <th>1</th>\n",
       "      <td>rxcka</td>\n",
       "      <td>جارو برقی</td>\n",
       "      <td>[451703, 8801989, 8977506, 4665205, 5219768, 5...</td>\n",
       "      <td>2022-05-18 11:24:02.385000+00:00</td>\n",
       "      <td>4792.0</td>\n",
       "      <td>NZPJN</td>\n",
       "    </tr>\n",
       "    <tr>\n",
       "      <th>2</th>\n",
       "      <td>fnafq</td>\n",
       "      <td>دسته ps4</td>\n",
       "      <td>[1457782, 5150503, 5921870, 909372, 9738201, 1...</td>\n",
       "      <td>2022-05-14 19:35:31.691000+00:00</td>\n",
       "      <td>NaN</td>\n",
       "      <td>NRMQA</td>\n",
       "    </tr>\n",
       "    <tr>\n",
       "      <th>3</th>\n",
       "      <td>ofpva</td>\n",
       "      <td>کلو تریمازول</td>\n",
       "      <td>[404198, 812389, 339213, 929557, 3632184, 7764...</td>\n",
       "      <td>2022-05-14 18:20:55.328000+00:00</td>\n",
       "      <td>NaN</td>\n",
       "      <td>WRYZT</td>\n",
       "    </tr>\n",
       "    <tr>\n",
       "      <th>4</th>\n",
       "      <td>usiey</td>\n",
       "      <td>قرص فولی کوژن</td>\n",
       "      <td>[8103652, 7283604, 4030781, 4756913, 3259566, ...</td>\n",
       "      <td>2022-05-13 19:50:03.519000+00:00</td>\n",
       "      <td>3196.0</td>\n",
       "      <td>TJLWU</td>\n",
       "    </tr>\n",
       "  </tbody>\n",
       "</table>\n",
       "</div>"
      ],
      "text/plain": [
       "      id          raw_query  \\\n",
       "0  qahft  سرویس ملامین نشکن   \n",
       "1  rxcka          جارو برقی   \n",
       "2  fnafq          دسته ps4    \n",
       "3  ofpva       کلو تریمازول   \n",
       "4  usiey      قرص فولی کوژن   \n",
       "\n",
       "                                              result  \\\n",
       "0  [7840591, 1784875, 6716428, 6135112, 7103618, ...   \n",
       "1  [451703, 8801989, 8977506, 4665205, 5219768, 5...   \n",
       "2  [1457782, 5150503, 5921870, 909372, 9738201, 1...   \n",
       "3  [404198, 812389, 339213, 929557, 3632184, 7764...   \n",
       "4  [8103652, 7283604, 4030781, 4756913, 3259566, ...   \n",
       "\n",
       "                          datetime  category_id user_id  \n",
       "0 2022-05-16 13:17:22.701000+00:00          NaN   MPOHZ  \n",
       "1 2022-05-18 11:24:02.385000+00:00       4792.0   NZPJN  \n",
       "2 2022-05-14 19:35:31.691000+00:00          NaN   NRMQA  \n",
       "3 2022-05-14 18:20:55.328000+00:00          NaN   WRYZT  \n",
       "4 2022-05-13 19:50:03.519000+00:00       3196.0   TJLWU  "
      ]
     },
     "execution_count": 137,
     "metadata": {},
     "output_type": "execute_result"
    }
   ],
   "source": [
    "df_search_logs.head()"
   ]
  },
  {
   "cell_type": "code",
   "execution_count": 138,
   "id": "1e341885-10a1-4c62-9e02-6a5103c514ec",
   "metadata": {},
   "outputs": [
    {
     "data": {
      "text/html": [
       "<div>\n",
       "<style scoped>\n",
       "    .dataframe tbody tr th:only-of-type {\n",
       "        vertical-align: middle;\n",
       "    }\n",
       "\n",
       "    .dataframe tbody tr th {\n",
       "        vertical-align: top;\n",
       "    }\n",
       "\n",
       "    .dataframe thead th {\n",
       "        text-align: right;\n",
       "    }\n",
       "</style>\n",
       "<table border=\"1\" class=\"dataframe\">\n",
       "  <thead>\n",
       "    <tr style=\"text-align: right;\">\n",
       "      <th></th>\n",
       "      <th>id</th>\n",
       "      <th>datetime</th>\n",
       "      <th>search_id</th>\n",
       "      <th>rank</th>\n",
       "    </tr>\n",
       "  </thead>\n",
       "  <tbody>\n",
       "    <tr>\n",
       "      <th>0</th>\n",
       "      <td>jstyz</td>\n",
       "      <td>2022-05-13 19:30:14.030000+00:00</td>\n",
       "      <td>iitnm</td>\n",
       "      <td>1</td>\n",
       "    </tr>\n",
       "    <tr>\n",
       "      <th>1</th>\n",
       "      <td>ewusk</td>\n",
       "      <td>2022-05-13 19:30:24.290000+00:00</td>\n",
       "      <td>scjlb</td>\n",
       "      <td>2</td>\n",
       "    </tr>\n",
       "    <tr>\n",
       "      <th>2</th>\n",
       "      <td>osnio</td>\n",
       "      <td>2022-05-13 19:30:24.394000+00:00</td>\n",
       "      <td>ohuqq</td>\n",
       "      <td>6</td>\n",
       "    </tr>\n",
       "    <tr>\n",
       "      <th>3</th>\n",
       "      <td>expgi</td>\n",
       "      <td>2022-05-13 19:30:30.500000+00:00</td>\n",
       "      <td>pzrcn</td>\n",
       "      <td>3</td>\n",
       "    </tr>\n",
       "    <tr>\n",
       "      <th>4</th>\n",
       "      <td>srgdy</td>\n",
       "      <td>2022-05-13 19:30:32.884000+00:00</td>\n",
       "      <td>mhlmr</td>\n",
       "      <td>5</td>\n",
       "    </tr>\n",
       "  </tbody>\n",
       "</table>\n",
       "</div>"
      ],
      "text/plain": [
       "      id                         datetime search_id  rank\n",
       "0  jstyz 2022-05-13 19:30:14.030000+00:00     iitnm     1\n",
       "1  ewusk 2022-05-13 19:30:24.290000+00:00     scjlb     2\n",
       "2  osnio 2022-05-13 19:30:24.394000+00:00     ohuqq     6\n",
       "3  expgi 2022-05-13 19:30:30.500000+00:00     pzrcn     3\n",
       "4  srgdy 2022-05-13 19:30:32.884000+00:00     mhlmr     5"
      ]
     },
     "execution_count": 138,
     "metadata": {},
     "output_type": "execute_result"
    }
   ],
   "source": [
    "df_search_click_logs.head()"
   ]
  },
  {
   "cell_type": "code",
   "execution_count": 139,
   "id": "5517ab9a-daca-432f-9dce-ad53aa60d745",
   "metadata": {},
   "outputs": [
    {
     "data": {
      "text/html": [
       "<div>\n",
       "<style scoped>\n",
       "    .dataframe tbody tr th:only-of-type {\n",
       "        vertical-align: middle;\n",
       "    }\n",
       "\n",
       "    .dataframe tbody tr th {\n",
       "        vertical-align: top;\n",
       "    }\n",
       "\n",
       "    .dataframe thead th {\n",
       "        text-align: right;\n",
       "    }\n",
       "</style>\n",
       "<table border=\"1\" class=\"dataframe\">\n",
       "  <thead>\n",
       "    <tr style=\"text-align: right;\">\n",
       "      <th></th>\n",
       "      <th>id</th>\n",
       "      <th>title</th>\n",
       "      <th>category_id</th>\n",
       "    </tr>\n",
       "  </thead>\n",
       "  <tbody>\n",
       "    <tr>\n",
       "      <th>0</th>\n",
       "      <td>758287</td>\n",
       "      <td>میکروسکوپ سلسترون مدل 44121</td>\n",
       "      <td>262</td>\n",
       "    </tr>\n",
       "    <tr>\n",
       "      <th>1</th>\n",
       "      <td>7164195</td>\n",
       "      <td>دوربین عکاسی نیکون مدل Nikon D5600 body</td>\n",
       "      <td>1273</td>\n",
       "    </tr>\n",
       "    <tr>\n",
       "      <th>2</th>\n",
       "      <td>3242621</td>\n",
       "      <td>دوچرخه شهری قناری مدل Space Shuttle سایز 16</td>\n",
       "      <td>3882</td>\n",
       "    </tr>\n",
       "    <tr>\n",
       "      <th>3</th>\n",
       "      <td>4277974</td>\n",
       "      <td>دوچرخه سایز 16 مدل  2020 Flying Bear قناری</td>\n",
       "      <td>3882</td>\n",
       "    </tr>\n",
       "    <tr>\n",
       "      <th>4</th>\n",
       "      <td>8671305</td>\n",
       "      <td>دوچرخه 12 قناری مدل JENNY</td>\n",
       "      <td>4320</td>\n",
       "    </tr>\n",
       "  </tbody>\n",
       "</table>\n",
       "</div>"
      ],
      "text/plain": [
       "        id                                        title  category_id\n",
       "0   758287                  میکروسکوپ سلسترون مدل 44121          262\n",
       "1  7164195      دوربین عکاسی نیکون مدل Nikon D5600 body         1273\n",
       "2  3242621  دوچرخه شهری قناری مدل Space Shuttle سایز 16         3882\n",
       "3  4277974   دوچرخه سایز 16 مدل  2020 Flying Bear قناری         3882\n",
       "4  8671305                    دوچرخه 12 قناری مدل JENNY         4320"
      ]
     },
     "execution_count": 139,
     "metadata": {},
     "output_type": "execute_result"
    }
   ],
   "source": [
    "df_products.head()"
   ]
  },
  {
   "cell_type": "code",
   "execution_count": 140,
   "id": "a01d412a-abc2-4bf4-bfe6-d23caa4cfbce",
   "metadata": {},
   "outputs": [
    {
     "data": {
      "text/html": [
       "<div>\n",
       "<style scoped>\n",
       "    .dataframe tbody tr th:only-of-type {\n",
       "        vertical-align: middle;\n",
       "    }\n",
       "\n",
       "    .dataframe tbody tr th {\n",
       "        vertical-align: top;\n",
       "    }\n",
       "\n",
       "    .dataframe thead th {\n",
       "        text-align: right;\n",
       "    }\n",
       "</style>\n",
       "<table border=\"1\" class=\"dataframe\">\n",
       "  <thead>\n",
       "    <tr style=\"text-align: right;\">\n",
       "      <th></th>\n",
       "      <th>title</th>\n",
       "      <th>id</th>\n",
       "      <th>parent_category_id</th>\n",
       "    </tr>\n",
       "  </thead>\n",
       "  <tbody>\n",
       "    <tr>\n",
       "      <th>0</th>\n",
       "      <td>گوشی موبایل</td>\n",
       "      <td>2580</td>\n",
       "      <td>175.0</td>\n",
       "    </tr>\n",
       "    <tr>\n",
       "      <th>1</th>\n",
       "      <td>تبلت</td>\n",
       "      <td>9458</td>\n",
       "      <td>175.0</td>\n",
       "    </tr>\n",
       "    <tr>\n",
       "      <th>2</th>\n",
       "      <td>هدفون، هدست و هندزفری</td>\n",
       "      <td>1092</td>\n",
       "      <td>175.0</td>\n",
       "    </tr>\n",
       "    <tr>\n",
       "      <th>3</th>\n",
       "      <td>لوازم جانبی موبایل و تبلت</td>\n",
       "      <td>8192</td>\n",
       "      <td>175.0</td>\n",
       "    </tr>\n",
       "    <tr>\n",
       "      <th>4</th>\n",
       "      <td>قطعات موبایل و تبلت</td>\n",
       "      <td>3596</td>\n",
       "      <td>175.0</td>\n",
       "    </tr>\n",
       "  </tbody>\n",
       "</table>\n",
       "</div>"
      ],
      "text/plain": [
       "                       title    id  parent_category_id\n",
       "0                گوشی موبایل  2580               175.0\n",
       "1                       تبلت  9458               175.0\n",
       "2      هدفون، هدست و هندزفری  1092               175.0\n",
       "3  لوازم جانبی موبایل و تبلت  8192               175.0\n",
       "4        قطعات موبایل و تبلت  3596               175.0"
      ]
     },
     "execution_count": 140,
     "metadata": {},
     "output_type": "execute_result"
    }
   ],
   "source": [
    "df_categories.head()"
   ]
  },
  {
   "cell_type": "markdown",
   "id": "5a441b8a-7098-4c96-82e9-568a8096d014",
   "metadata": {},
   "source": [
    "---"
   ]
  },
  {
   "cell_type": "markdown",
   "id": "9b074fc3-710c-4cd8-afcd-ac8ee0b9e9ff",
   "metadata": {},
   "source": [
    "## Data Validation\n",
    "\n",
    "Before starting our analysis, it's a good practice to validate the consistency of the data values and constraints with our expectations. There are various validity checks that could be done, and below we give you two examples."
   ]
  },
  {
   "cell_type": "markdown",
   "id": "b10cfa25-2316-442c-8a05-29ab6f2914fc",
   "metadata": {
    "tags": []
   },
   "source": [
    "### 🚩Validate uniquness of ID columns\n",
    "\n",
    "For example, we can confirm whether all the unique ID columns (i.e. `id` column) have no duplicate values for all the dataframes we have. Let's check this for all the four dataframes:"
   ]
  },
  {
   "cell_type": "markdown",
   "id": "ad9f7982-de77-4a36-bae2-81223c2017c3",
   "metadata": {},
   "source": [
    "**Write the answer below:**"
   ]
  },
  {
   "cell_type": "code",
   "execution_count": 141,
   "id": "2a4ff33a-8a91-48d2-b47a-2badb8ccef2d",
   "metadata": {},
   "outputs": [
    {
     "data": {
      "text/plain": [
       "0"
      ]
     },
     "execution_count": 141,
     "metadata": {},
     "output_type": "execute_result"
    }
   ],
   "source": [
    "df_search_logs.duplicated(['id']).sum()"
   ]
  },
  {
   "cell_type": "code",
   "execution_count": 142,
   "id": "10de990f",
   "metadata": {},
   "outputs": [
    {
     "data": {
      "text/plain": [
       "0"
      ]
     },
     "execution_count": 142,
     "metadata": {},
     "output_type": "execute_result"
    }
   ],
   "source": [
    "df_search_click_logs.duplicated(['id']).sum()"
   ]
  },
  {
   "cell_type": "code",
   "execution_count": 143,
   "id": "4393560c",
   "metadata": {},
   "outputs": [
    {
     "data": {
      "text/plain": [
       "0"
      ]
     },
     "execution_count": 143,
     "metadata": {},
     "output_type": "execute_result"
    }
   ],
   "source": [
    "df_products.duplicated(['id']).sum()"
   ]
  },
  {
   "cell_type": "code",
   "execution_count": 144,
   "id": "8ed8daac",
   "metadata": {},
   "outputs": [
    {
     "data": {
      "text/plain": [
       "0"
      ]
     },
     "execution_count": 144,
     "metadata": {},
     "output_type": "execute_result"
    }
   ],
   "source": [
    "df_categories.duplicated(['id']).sum()"
   ]
  },
  {
   "cell_type": "markdown",
   "id": "29761e60-4006-4019-a269-3aa5fb8a8097",
   "metadata": {},
   "source": [
    "### 🚩Validate all the search clicks have a valid rank value\n",
    "\n",
    "Here, we would like to check two things about the rank of search click records: 1) they have no NaN value, 2) they are all between 0 and 9 (because searches have at most 10 results). Let's do these checks:"
   ]
  },
  {
   "cell_type": "markdown",
   "id": "a51d1afd-e4f3-4056-8d04-c387444962bd",
   "metadata": {},
   "source": [
    "**Write the answer below:**"
   ]
  },
  {
   "cell_type": "code",
   "execution_count": 145,
   "id": "3dd1c351-4298-4455-ac64-5f64b96848f5",
   "metadata": {},
   "outputs": [
    {
     "data": {
      "text/plain": [
       "array([1, 2, 6, 3, 5, 8, 7, 0, 4, 9], dtype=int64)"
      ]
     },
     "execution_count": 145,
     "metadata": {},
     "output_type": "execute_result"
    }
   ],
   "source": [
    "df_search_click_logs['rank'].unique()"
   ]
  },
  {
   "cell_type": "markdown",
   "id": "f0564ad2-ba53-4b7c-87b4-1a17ed4a1e6d",
   "metadata": {},
   "source": [
    "---"
   ]
  },
  {
   "cell_type": "markdown",
   "id": "f649f30d-f971-4a45-90cf-6103149b31b9",
   "metadata": {
    "tags": []
   },
   "source": [
    "## Exploratory Data Analysis (EDA)\n",
    "\n",
    "Now that we have loaded the data, we are ready to start the processing and analysis of our data."
   ]
  },
  {
   "cell_type": "markdown",
   "id": "a5c5b0fb-5c65-42da-868b-7783933cc5ba",
   "metadata": {
    "tags": []
   },
   "source": [
    "### 🚩Number of searches and search clicks\n",
    "\n",
    "The most basic stat we can get from our data is the number of searches and search clicks we have. Let's find and print them:"
   ]
  },
  {
   "cell_type": "markdown",
   "id": "36a3a791-cd0a-4fb9-ad55-ba61356c5b09",
   "metadata": {},
   "source": [
    "**Write the answer below:**"
   ]
  },
  {
   "cell_type": "code",
   "execution_count": 146,
   "id": "c9e03c0b-4e03-4b4a-bca2-9446434349d7",
   "metadata": {},
   "outputs": [
    {
     "name": "stdout",
     "output_type": "stream",
     "text": [
      "number of searches 3235734\n",
      "number of search clicks 1182768\n"
     ]
    }
   ],
   "source": [
    "number_of_searches=df_search_logs.size\n",
    "number_of_search_click=df_search_click_logs.size\n",
    "print('number of searches',number_of_searches)\n",
    "print('number of search clicks', number_of_search_click)"
   ]
  },
  {
   "cell_type": "markdown",
   "id": "b8e0fe09-7a3f-4926-bf3c-4433cdc08002",
   "metadata": {},
   "source": [
    "### 🚩Number of unique search queries\n",
    "\n",
    "We can also calculate the number of unique search queries."
   ]
  },
  {
   "cell_type": "markdown",
   "id": "98e017c5-c22e-4837-a893-20066542b7ba",
   "metadata": {},
   "source": [
    "**Write the answer below:**"
   ]
  },
  {
   "cell_type": "code",
   "execution_count": 147,
   "id": "39d84e83-8a1a-4a33-9c96-bf4a8fb8ea0d",
   "metadata": {},
   "outputs": [
    {
     "name": "stdout",
     "output_type": "stream",
     "text": [
      "number of unique search is  260193\n"
     ]
    }
   ],
   "source": [
    "number_of_unique_search=df_search_logs['raw_query'].nunique()\n",
    "print('number of unique search is ',number_of_unique_search)\n"
   ]
  },
  {
   "cell_type": "markdown",
   "id": "6da1fe55-d215-49e6-bea4-4678cbd69449",
   "metadata": {},
   "source": [
    "### 🚩Number of unique users\n",
    "\n",
    "Another basic stat is the number of unique users who searched on Torob. We can use `user_id` column to calculate this:"
   ]
  },
  {
   "cell_type": "markdown",
   "id": "ec8679da-d9b1-46aa-ba2d-8791dfb4251c",
   "metadata": {},
   "source": [
    "**Write the answer below:**"
   ]
  },
  {
   "cell_type": "code",
   "execution_count": 148,
   "id": "abac1487-d97e-406a-84ce-30d92eee481e",
   "metadata": {},
   "outputs": [
    {
     "name": "stdout",
     "output_type": "stream",
     "text": [
      "number of users is  311083\n"
     ]
    }
   ],
   "source": [
    "number_of_users=df_search_logs['user_id'].nunique()\n",
    "print('number of users is ',number_of_users)\n"
   ]
  },
  {
   "cell_type": "markdown",
   "id": "4fcac2f9-b364-4216-9c78-7952048472f3",
   "metadata": {
    "tags": []
   },
   "source": [
    "### 🚩Most frequent search queries\n",
    "\n",
    "We would like to know which search queries are the most popular (i.e. most frequent). We can use the \"search logs\" data to find the answer. Find the top 20 most searched queries along with their number of searches:"
   ]
  },
  {
   "cell_type": "markdown",
   "id": "b8ec3e4f-3921-4875-87c3-9cf270dc6978",
   "metadata": {},
   "source": [
    "**Write the answer below:**"
   ]
  },
  {
   "cell_type": "code",
   "execution_count": 149,
   "id": "3b677ef6-9531-4fcd-b4d4-093a4db1d0b2",
   "metadata": {},
   "outputs": [
    {
     "data": {
      "text/plain": [
       "iphone           7626\n",
       "دلار امریکا      3240\n",
       "کفش              3211\n",
       "روغن             2956\n",
       "لپ تاپ ایسوس     1940\n",
       "دوربین عکاسی     1929\n",
       "شیر              1781\n",
       "دوچرخه 26        1689\n",
       "xbox series s    1617\n",
       "لباس عروس        1577\n",
       "گوشی             1454\n",
       "روغن موتور       1333\n",
       "ماکروویو         1196\n",
       "xiaomi 12 pro    1083\n",
       "کاغذ a4          1012\n",
       "تلویزیون          843\n",
       "گوشی سامسونگ      812\n",
       "دوچرخه            807\n",
       "یخچال             789\n",
       "روغن خوراکی       787\n",
       "Name: raw_query, dtype: int64"
      ]
     },
     "execution_count": 149,
     "metadata": {},
     "output_type": "execute_result"
    }
   ],
   "source": [
    "df_search_logs['raw_query'].value_counts().nlargest(20)"
   ]
  },
  {
   "cell_type": "markdown",
   "id": "a826f78a-01a8-4d5a-a1da-524f814e6794",
   "metadata": {},
   "source": [
    "### 🚩Distribution of length of search queries\n",
    "\n",
    "We expect that the majority of search queries consist of at most three words. Let's confirm our expectation by calculating the number of words in each search query and then aggregate these values to see how the length of queries is distributed (i.e. find the distribution of number of words in search queries):"
   ]
  },
  {
   "cell_type": "markdown",
   "id": "0151cf2b-17aa-477f-8d90-c9940fa9953e",
   "metadata": {},
   "source": [
    "**Write the answer below:**  \n",
    "(Hint: for the sake of simplicity, you can assume that in each search query the words are separated from each other by one or more whitespace characters. Yes, we know this is a simplification and has errors, but it's a good approximation. Further, note that the `str` acessor in Pandas gives you a lot of good methods for processing columns of type string and list.)"
   ]
  },
  {
   "cell_type": "code",
   "execution_count": 150,
   "id": "4d86acba-45dd-45c2-8e6a-b8275cb51803",
   "metadata": {},
   "outputs": [
    {
     "data": {
      "text/plain": [
       "2    213446\n",
       "3    140200\n",
       "1    138518\n",
       "4     42003\n",
       "5      4791\n",
       "Name: number_of_word_search, dtype: int64"
      ]
     },
     "execution_count": 150,
     "metadata": {},
     "output_type": "execute_result"
    }
   ],
   "source": [
    "df_search_logs['number_of_word_search']=df_search_logs['raw_query'].str.split().apply(len)\n",
    "df_search_logs['number_of_word_search'].value_counts().nlargest()"
   ]
  },
  {
   "cell_type": "markdown",
   "id": "12d23d55-81b4-4f47-a8be-25a3e5bec123",
   "metadata": {
    "tags": []
   },
   "source": [
    "### 🚩Most common words in search queries\n",
    "\n",
    "Which words were most commonly used in the search queries? Find the top 20 most common words along with their number of occurrences in search queries:"
   ]
  },
  {
   "cell_type": "markdown",
   "id": "f1184224-d79e-417e-86b4-827bf3d2e8b1",
   "metadata": {},
   "source": [
    "**Write the answer below:**  \n",
    "(Hint: split + explode!!!)"
   ]
  },
  {
   "cell_type": "code",
   "execution_count": 151,
   "id": "a154d403-9fac-4dbb-a738-1040998ee942",
   "metadata": {},
   "outputs": [
    {
     "data": {
      "text/plain": [
       "گوشی       12606\n",
       "روغن       11010\n",
       "iphone      9228\n",
       "موتور       8039\n",
       "کفش         7933\n",
       "pro         6381\n",
       "دوچرخه      6094\n",
       "سامسونگ     5598\n",
       "لباس        5334\n",
       "ماشین       5266\n",
       "ساعت        5132\n",
       "پراید       5110\n",
       "کولر        4777\n",
       "ای          4418\n",
       "برقی        4400\n",
       "تاپ         4180\n",
       "مردانه      4096\n",
       "یخچال       4040\n",
       "دوربین      4026\n",
       "لپ          3987\n",
       "Name: raw_query, dtype: int64"
      ]
     },
     "execution_count": 151,
     "metadata": {},
     "output_type": "execute_result"
    }
   ],
   "source": [
    "df_search_logs['raw_query'].str.split().explode().value_counts().nlargest(20)"
   ]
  },
  {
   "cell_type": "markdown",
   "id": "904a3414-33b1-495e-a917-a8dced4ae7ed",
   "metadata": {
    "tags": []
   },
   "source": [
    "### 🚩Localize date and time values\n",
    "\n",
    "Currently, the date & time values in the search and search-click dataframes are stored in UTC timezone. This is a best-pratice to store timestamp values in UTC when the data is stored in databases; however, for our next time-based analyses to be more understandable, we need to convert them all to Tehran timezone.\n",
    "\n",
    "Convert and replace the `datetime` columns in both search and search-click dataframes:"
   ]
  },
  {
   "cell_type": "markdown",
   "id": "78602831-ce6e-4246-af72-35f1857fe338",
   "metadata": {},
   "source": [
    "**Write the answer below:**  \n",
    "(Hint: in Pandas, datetime columns have a `dt` accessor which offers some methods for manipulation of datetime values. Here, you should look for `tz_convert` method and use `'Asia/Tehran'` as the timezone.)"
   ]
  },
  {
   "cell_type": "code",
   "execution_count": 152,
   "id": "30c0903a-8ff0-437c-add6-2c0f664679f2",
   "metadata": {},
   "outputs": [
    {
     "data": {
      "text/plain": [
       "0   2022-05-16 17:47:22.701000+04:30\n",
       "1   2022-05-18 15:54:02.385000+04:30\n",
       "2   2022-05-15 00:05:31.691000+04:30\n",
       "3   2022-05-14 22:50:55.328000+04:30\n",
       "4   2022-05-14 00:20:03.519000+04:30\n",
       "Name: datetime, dtype: datetime64[ns, Asia/Tehran]"
      ]
     },
     "execution_count": 152,
     "metadata": {},
     "output_type": "execute_result"
    }
   ],
   "source": [
    "df_search_logs['datetime']=df_search_logs['datetime'].dt.tz_convert('Asia/Tehran')\n",
    "df_search_logs['datetime'].head()"
   ]
  },
  {
   "cell_type": "code",
   "execution_count": 153,
   "id": "e8ad5e95",
   "metadata": {},
   "outputs": [
    {
     "data": {
      "text/plain": [
       "0   2022-05-14 00:00:14.030000+04:30\n",
       "1   2022-05-14 00:00:24.290000+04:30\n",
       "2   2022-05-14 00:00:24.394000+04:30\n",
       "3   2022-05-14 00:00:30.500000+04:30\n",
       "4   2022-05-14 00:00:32.884000+04:30\n",
       "Name: datetime, dtype: datetime64[ns, Asia/Tehran]"
      ]
     },
     "execution_count": 153,
     "metadata": {},
     "output_type": "execute_result"
    }
   ],
   "source": [
    "df_search_click_logs['datetime']=df_search_click_logs['datetime'].dt.tz_convert('Asia/Tehran')\n",
    "df_search_click_logs['datetime'].head()"
   ]
  },
  {
   "cell_type": "markdown",
   "id": "42c81965-7584-41d0-9b52-640836bacf82",
   "metadata": {
    "tags": []
   },
   "source": [
    "### 🚩Number of searches and search-clicks per weekday\n",
    "\n",
    "Now that we have converted the datetime to Tehran timezone, we are interested to know how many searches and search-clicks exist per weekday (i.e. Saturday, Sunday, Monday, etc.). We expect that both of these numbers to be a bit lower on weekends (i.e. Thursday and Friday).\n",
    "\n",
    "Calculate the number of searches and search-clicks per weekday and plot both alongside each other in a single bar plot:"
   ]
  },
  {
   "cell_type": "markdown",
   "id": "88f6b2f7-a997-4088-ae50-e9163b9d5213",
   "metadata": {},
   "source": [
    "**Write the answer below:**  \n",
    "(Hint: again, you can use the methods which exist via `dt` accessor to get the weekday of datetime values. As a challenge, try to write all the calculations and plotting in just a single python statement by using method chaining... a lot!)"
   ]
  },
  {
   "cell_type": "code",
   "execution_count": 154,
   "id": "a6bbfecd-4c81-443d-bce7-a0d90e06d363",
   "metadata": {},
   "outputs": [
    {
     "data": {
      "text/plain": [
       "<AxesSubplot:>"
      ]
     },
     "execution_count": 154,
     "metadata": {},
     "output_type": "execute_result"
    },
    {
     "data": {
      "image/png": "[encoded data removed]",
      "text/plain": [
       "<Figure size 432x288 with 1 Axes>"
      ]
     },
     "metadata": {
      "needs_background": "light"
     },
     "output_type": "display_data"
    }
   ],
   "source": [
    "df_search_logs['datetime'].dt.weekday.value_counts().sort_index().plot(kind='bar')"
   ]
  },
  {
   "cell_type": "code",
   "execution_count": 155,
   "id": "85bb8e64",
   "metadata": {},
   "outputs": [
    {
     "data": {
      "text/plain": [
       "<AxesSubplot:>"
      ]
     },
     "execution_count": 155,
     "metadata": {},
     "output_type": "execute_result"
    },
    {
     "data": {
      "image/png": "[encoded data removed]",
      "text/plain": [
       "<Figure size 432x288 with 1 Axes>"
      ]
     },
     "metadata": {
      "needs_background": "light"
     },
     "output_type": "display_data"
    }
   ],
   "source": [
    "df_search_click_logs['datetime'].dt.weekday.value_counts().sort_index().plot(kind='bar')"
   ]
  },
  {
   "cell_type": "markdown",
   "id": "c16dce97-ac29-44a7-8bd3-bed31ca7e5b9",
   "metadata": {
    "tags": []
   },
   "source": [
    "### 🚩Number of searches and search-clicks per hour of day\n",
    "\n",
    "Next, we would like to know which hour during the day has the most search traffic.\n",
    "\n",
    "Calculate the number of searches and search-clicks per hour and plot both alongside each other in a single bar plot (note that we are just interested in the hour regardless of the specific day; so the result should be aggregated based on hour **over all the days**):"
   ]
  },
  {
   "cell_type": "markdown",
   "id": "550e810e-9e8a-4377-a347-a2d53779c1e8",
   "metadata": {},
   "source": [
    "**Write the answer below:**  \n",
    "(Hint: again, `dt` accessor is your friend here as well!)"
   ]
  },
  {
   "cell_type": "code",
   "execution_count": 156,
   "id": "cbe17079-54c4-47c8-b46d-30a9f3227d99",
   "metadata": {},
   "outputs": [
    {
     "data": {
      "text/plain": [
       "<AxesSubplot:>"
      ]
     },
     "execution_count": 156,
     "metadata": {},
     "output_type": "execute_result"
    },
    {
     "data": {
      "image/png": "[encoded data removed]",
      "text/plain": [
       "<Figure size 432x288 with 1 Axes>"
      ]
     },
     "metadata": {
      "needs_background": "light"
     },
     "output_type": "display_data"
    }
   ],
   "source": [
    "df_search_logs['datetime'].dt.hour.value_counts().sort_index().plot(kind='bar')"
   ]
  },
  {
   "cell_type": "code",
   "execution_count": 157,
   "id": "460d93e5",
   "metadata": {},
   "outputs": [
    {
     "data": {
      "text/plain": [
       "<AxesSubplot:>"
      ]
     },
     "execution_count": 157,
     "metadata": {},
     "output_type": "execute_result"
    },
    {
     "data": {
      "image/png": "[encoded data removed]",
      "text/plain": [
       "<Figure size 432x288 with 1 Axes>"
      ]
     },
     "metadata": {
      "needs_background": "light"
     },
     "output_type": "display_data"
    }
   ],
   "source": [
    "df_search_click_logs['datetime'].dt.hour.value_counts().sort_index().plot(kind='bar')"
   ]
  },
  {
   "cell_type": "markdown",
   "id": "3a45dac8-e7bc-4f5c-a556-09f65b102f3c",
   "metadata": {
    "tags": []
   },
   "source": [
    "### 🚩Top 10 most frequent search queries per weekday\n",
    "\n",
    "Now, instead of calculating the most frequent queries over all the timeframe of the data, we would like to find the top 10 most frequent queries per weekday (note that we don't need the number of searches for each query; we are just interested in the queries themeselves)."
   ]
  },
  {
   "cell_type": "markdown",
   "id": "f553734f-9abc-42a2-805e-871e3b01d9b7",
   "metadata": {},
   "source": [
    "**Write the answer below:**  "
   ]
  },
  {
   "cell_type": "code",
   "execution_count": 158,
   "id": "af77fde1-be61-4ead-ab41-da43a5149ae9",
   "metadata": {},
   "outputs": [
    {
     "name": "stdout",
     "output_type": "stream",
     "text": [
      "in the 0 day top 10 are \n",
      " Index(['iphone', 'دوچرخه 26', 'روغن', 'کفش', 'روغن موتور', 'لپ تاپ ایسوس',\n",
      "       'دوربین عکاسی', 'xbox series s', 'شیر', 'کفش زنانه'],\n",
      "      dtype='object')\n",
      "in the 1 day top 10 are \n",
      " Index(['iphone', 'دلار امریکا ', 'کفش', 'لباس عروس', 'روغن', 'شیر',\n",
      "       'xiaomi 12 pro', 'کاغذ a4', 'لپ تاپ ایسوس', 'دوربین عکاسی'],\n",
      "      dtype='object')\n",
      "in the 2 day top 10 are \n",
      " Index(['iphone', 'دلار امریکا ', 'کفش', 'لباس عروس', 'شیر', 'روغن',\n",
      "       'لپ تاپ ایسوس', 'xiaomi 12 pro', 'کاغذ a4', 'دوربین عکاسی'],\n",
      "      dtype='object')\n",
      "in the 3 day top 10 are \n",
      " Index(['iphone', 'دلار امریکا ', 'کفش', 'لباس عروس', 'شیر', 'روغن',\n",
      "       'لپ تاپ ایسوس', 'دوربین عکاسی', 'xiaomi 12 pro', 'کاغذ a4'],\n",
      "      dtype='object')\n",
      "in the 4 day top 10 are \n",
      " Index(['iphone', 'دلار امریکا ', 'کفش', 'لباس عروس', 'شیر', 'دوربین عکاسی',\n",
      "       'xiaomi 12 pro', 'لپ تاپ ایسوس', 'کاغذ a4', 'روغن'],\n",
      "      dtype='object')\n",
      "in the 5 day top 10 are \n",
      " Index(['iphone', 'روغن', 'کفش', 'روغن موتور', 'دوچرخه 26', 'دوربین عکاسی',\n",
      "       'مبل', 'لپ تاپ ایسوس', 'xbox series s', 'کولر ابی'],\n",
      "      dtype='object')\n",
      "in the 6 day top 10 are \n",
      " Index(['iphone', 'روغن خوراکی', 'دوچرخه 26', 'روغن', 'کفش', 'روغن موتور',\n",
      "       'لپ تاپ ایسوس', 'دوربین عکاسی', 'xbox series s', 'گوشی'],\n",
      "      dtype='object')\n",
      "<class 'pandas.core.series.Series'>\n"
     ]
    }
   ],
   "source": [
    "df_search_logs['weekday']=df_search_logs['datetime'].dt.weekday\n",
    "for i in range(7):\n",
    "    top_10_per_weekday=df_search_logs[df_search_logs['weekday']==i]['raw_query'].value_counts().nlargest(10)\n",
    "    print('in the',i,'day top 10 are \\n',top_10_per_weekday.index)\n",
    "print(type(top_10_per_weekday))"
   ]
  },
  {
   "cell_type": "markdown",
   "id": "3a33b8ac-ecf5-4b6d-9987-24f12dfcd38a",
   "metadata": {
    "tags": []
   },
   "source": [
    "### 🚩Number of searches per user\n",
    "\n",
    "Next, we would like to know how many of the searches are done by our regular visitors or loyal users.\n",
    "\n",
    "Calculate the number of searches per user such that we could know the number of users with at most 3 searches, between 4 and 9 searches, and at least 10 searches."
   ]
  },
  {
   "cell_type": "markdown",
   "id": "d20eef5c-667f-4e6e-9373-8270616cab9e",
   "metadata": {},
   "source": [
    "**Write the answer below:**  "
   ]
  },
  {
   "cell_type": "code",
   "execution_count": 159,
   "id": "310135a3-525d-4d91-948c-a3fc9d0d2465",
   "metadata": {},
   "outputs": [
    {
     "name": "stdout",
     "output_type": "stream",
     "text": [
      " number of user with at most 3 searches user_id    286513\n",
      "dtype: int64\n",
      "number of user with between 4 to 9 searches user_id    22223\n",
      "dtype: int64\n",
      "number of user with at least 10 searches user_id    2347\n",
      "dtype: int64\n"
     ]
    }
   ],
   "source": [
    "number_of_search_per_user=pd.DataFrame(df_search_logs['user_id'].value_counts())\n",
    "number_of_user_with_at_most_3_searches=number_of_search_per_user[number_of_search_per_user['user_id']<=3].count()\n",
    "number_of_user_with_between_4_to_9_searches=number_of_search_per_user.loc[((number_of_search_per_user['user_id']>3) & (number_of_search_per_user['user_id']<10)) ].count()\n",
    "number_of_user_with_at_least_10_searches=number_of_search_per_user[number_of_search_per_user['user_id']>=10].count()\n",
    "print(' number of user with at most 3 searches',number_of_user_with_at_most_3_searches)\n",
    "print('number of user with between 4 to 9 searches',number_of_user_with_between_4_to_9_searches)\n",
    "print('number of user with at least 10 searches',number_of_user_with_at_least_10_searches)"
   ]
  },
  {
   "cell_type": "markdown",
   "id": "44c7bc72-c66a-4db4-b7a4-2a7a9ee0bc29",
   "metadata": {
    "tags": []
   },
   "source": [
    "### 🚩Number of searches with or without a category\n",
    "\n",
    "For some of the searches, a product category is also selected by the user which limits the search results to only the products in the selected category. We would like to find the number of these searches and compare it against searches without category.\n",
    "\n",
    "Calculate the number of searches with and without a selected category by users:"
   ]
  },
  {
   "cell_type": "markdown",
   "id": "62c996fd-2b22-41f8-af39-79428d19de2d",
   "metadata": {},
   "source": [
    "**Write the answer below:**  \n",
    "(Hint: if `category_id` is `NaN` for a search record, it means that search was performed without selecting a category; and consider that Pandas is very NA-friendly and also has methods for detecting `NaN` values.)"
   ]
  },
  {
   "cell_type": "code",
   "execution_count": 160,
   "id": "55323439-31fc-494a-b4d7-78d17b220af0",
   "metadata": {},
   "outputs": [
    {
     "name": "stdout",
     "output_type": "stream",
     "text": [
      "number of search without category:  410049\n"
     ]
    }
   ],
   "source": [
    "print('number of search without category: ',df_search_logs['category_id'].isna().sum())"
   ]
  },
  {
   "cell_type": "code",
   "execution_count": 161,
   "id": "09d3e864",
   "metadata": {},
   "outputs": [
    {
     "name": "stdout",
     "output_type": "stream",
     "text": [
      "number of search with category 129240\n"
     ]
    }
   ],
   "source": [
    "print('number of search with category',df_search_logs['category_id'].count())\n"
   ]
  },
  {
   "cell_type": "markdown",
   "id": "123f587a-31ef-4218-aa44-e060e8b7b84f",
   "metadata": {
    "tags": []
   },
   "source": [
    "### 🚩Most frequent search queries among searches with a category\n",
    "\n",
    "This is the same as the earlier exercise for finding the most frequent search queries, but it only consider searches with a selected category by user.\n",
    "\n",
    "Find the top 10 most frequent search queries among searches with a category, along with their number of searches:"
   ]
  },
  {
   "cell_type": "markdown",
   "id": "7440e672-e96f-4321-b323-b257807e1f7f",
   "metadata": {},
   "source": [
    "**Write the answer below:**  "
   ]
  },
  {
   "cell_type": "code",
   "execution_count": 162,
   "id": "16bf56a4-d017-4a6a-bdbb-7887b7b281fa",
   "metadata": {},
   "outputs": [
    {
     "data": {
      "text/plain": [
       "روغن        1854\n",
       "گوشی         870\n",
       "تلویزیون     520\n",
       "یخچال        465\n",
       "موتور        364\n",
       "دوچرخه       325\n",
       "کولر         317\n",
       "ps5          291\n",
       "شیایومی      280\n",
       "هارد         280\n",
       "Name: raw_query, dtype: int64"
      ]
     },
     "execution_count": 162,
     "metadata": {},
     "output_type": "execute_result"
    }
   ],
   "source": [
    "df_search_logs[df_search_logs['category_id'].notna()]['raw_query'].value_counts().nlargest(10)"
   ]
  },
  {
   "cell_type": "markdown",
   "id": "43c7a24a-84d9-4aa4-9fa5-01e027261f68",
   "metadata": {
    "tags": []
   },
   "source": [
    "### 🚩Distribution of search clicks over different ranks\n",
    "\n",
    "Is it more likely that the users click on the top search results instead of the lower ranked results? To find out, we need to compute the distribution of search-clicks over different ranks (i.e. number of search-clicks per rank of the clicked product in the search result).\n",
    "\n",
    "Plot the distribution of number of search-clicks over different ranks using a bar plot:"
   ]
  },
  {
   "cell_type": "markdown",
   "id": "915c9895-cd19-4caf-9c16-9d167056e5ec",
   "metadata": {},
   "source": [
    "**Write the answer below:**  "
   ]
  },
  {
   "cell_type": "code",
   "execution_count": 163,
   "id": "54e876bc-82a2-4533-a95e-c17ceabb1529",
   "metadata": {},
   "outputs": [
    {
     "data": {
      "text/plain": [
       "<AxesSubplot:>"
      ]
     },
     "execution_count": 163,
     "metadata": {},
     "output_type": "execute_result"
    },
    {
     "data": {
      "image/png": "[encoded data removed]",
      "text/plain": [
       "<Figure size 432x288 with 1 Axes>"
      ]
     },
     "metadata": {
      "needs_background": "light"
     },
     "output_type": "display_data"
    }
   ],
   "source": [
    "df_search_click_logs['rank'].value_counts().sort_index().plot(kind='bar')\n",
    "# df_search_click_logs.head()"
   ]
  },
  {
   "cell_type": "markdown",
   "id": "003e752f-9213-4c8c-8d91-726d24ce7c3b",
   "metadata": {
    "tags": []
   },
   "source": [
    "### 🚩Number of searches per number of search results\n",
    "\n",
    "How many of the searches have zero search result? How many of them have only 1 or 2 results? To find out, we can compute the distribution of number of searches per number of search-results.\n",
    "\n",
    "Calculate the full distribution of number of searches per number of search results:"
   ]
  },
  {
   "cell_type": "markdown",
   "id": "5f7c38cc-3f04-4465-ab0c-348edce777c8",
   "metadata": {},
   "source": [
    "**Write the answer below:**  "
   ]
  },
  {
   "cell_type": "code",
   "execution_count": 164,
   "id": "8be7bedf-9dd7-4864-a990-2dd95a2bf8d6",
   "metadata": {},
   "outputs": [
    {
     "data": {
      "text/plain": [
       "0       7938\n",
       "1       2142\n",
       "2       1606\n",
       "3       1245\n",
       "4       1025\n",
       "5        855\n",
       "6        868\n",
       "7        763\n",
       "8        791\n",
       "9        659\n",
       "10    521397\n",
       "Name: number_of_search_result, dtype: int64"
      ]
     },
     "execution_count": 164,
     "metadata": {},
     "output_type": "execute_result"
    }
   ],
   "source": [
    "df_search_logs['number_of_search_result']=df_search_logs['result'].str.len()\n",
    "df_search_logs['number_of_search_result'].value_counts().sort_index()"
   ]
  },
  {
   "cell_type": "markdown",
   "id": "c21cb978-c189-4ba5-95b6-77274f6fefa1",
   "metadata": {
    "tags": []
   },
   "source": [
    "### 🚩Most searched categories\n",
    "\n",
    "Find the categories with the most of number of searches. We would like to know the ID of the categories as well as their **title**."
   ]
  },
  {
   "cell_type": "markdown",
   "id": "19318de6-3a29-4436-9fe9-bb47a9b7683c",
   "metadata": {},
   "source": [
    "**Write the answer below:**  \n",
    "(Hint: we can calculate the ID of most searched categories from \"search logs\" dataframe, but to find their title we should also use the \"categories\" dataframe; hence you probably need to perform a \"join\"/\"merge\" operation to combine the information from two dataframes.)"
   ]
  },
  {
   "cell_type": "code",
   "execution_count": 177,
   "id": "41bc6332-e7ec-4fc7-9dcb-e3c42614ff10",
   "metadata": {},
   "outputs": [
    {
     "data": {
      "text/plain": [
       "گوشی موبایل                14960\n",
       "روغن خوراکی                 2647\n",
       "لپ تاپ و نوت بوک            2170\n",
       "هدفون، هدست و هندزفری       2110\n",
       "کارت گرافیک                 2089\n",
       "تلویزیون                    1699\n",
       "کیف و کاور گوشی             1223\n",
       "لوازم تزئینی خودرو          1042\n",
       "کولر گازی                    926\n",
       "موتور سیکلت                  884\n",
       "ساعت و مچ بند هوشمند         876\n",
       "یخچال و فریزر                840\n",
       "ماشین اصلاح و ریش‌ تراش      820\n",
       "لوازم خانگی                  762\n",
       "اسپیکر و سیستم صوتی          761\n",
       "اسپرسو ساز                   735\n",
       "کتاب و مجلات                 699\n",
       "پردازنده                     688\n",
       "مادربورد                     684\n",
       "مانیتور                      651\n",
       "Name: title, dtype: int64"
      ]
     },
     "execution_count": 177,
     "metadata": {},
     "output_type": "execute_result"
    }
   ],
   "source": [
    "\n",
    "df_search_logs_with_category_id=df_search_logs[df_search_logs['category_id'].notna()]\n",
    "df_categories.rename(columns={'id':'category_id'},inplace=True)\n",
    "df_merge_categoires_and_search_logs=df_search_logs_with_category_id.merge(df_categories,on='category_id')\n",
    "df_merge_categoires_and_search_logs['title'].value_counts().nlargest(20)\n"
   ]
  },
  {
   "cell_type": "markdown",
   "id": "1e2c3d99-6129-442f-83e8-a617573fba0a",
   "metadata": {
    "tags": []
   },
   "source": [
    "### 🚩Number of clicks per searches\n",
    "\n",
    "We would like to know how many of the searches have gotten no clicks, or how many of them have gotten more than one clicks. To find out, we should compute the distribution of number of clicks per searches:"
   ]
  },
  {
   "cell_type": "markdown",
   "id": "24285ec6-acd2-44d0-ac0a-f7d1798f038e",
   "metadata": {},
   "source": [
    "**Write the answer below:**  \n",
    "(Hint: the search data and search-click data are in two different dataframes. So again we may need to perform a join/merge operation)."
   ]
  },
  {
   "cell_type": "code",
   "execution_count": 203,
   "id": "2afb8155-28d5-4778-8749-c97b6da0f7f3",
   "metadata": {},
   "outputs": [
    {
     "name": "stdout",
     "output_type": "stream",
     "text": [
      "number of search without any click:\n",
      " 356272\n",
      "number of search with one click:\n",
      " search_id    119648\n",
      "dtype: int64\n",
      "number of search with more than one click:\n",
      " search_id    63369\n",
      "dtype: int64\n"
     ]
    }
   ],
   "source": [
    "# df_search_logs.head(5)\n",
    "# df_search_click_logs.head(5)\n",
    "df_search_logs.rename(columns={'id':'search_id'},inplace=True)\n",
    "df_merge_search_click_and_search_logs=df_search_click_logs.merge(df_search_logs,on='search_id')\n",
    "df_search_with_click_counter=pd.DataFrame(df_merge_search_click_and_search_logs['search_id'].value_counts())\n",
    "number_of_search_with_one_click=df_search_with_click_counter[df_search_with_click_counter['search_id']==1].count()\n",
    "number_of_search_with_more_than_one_click=df_search_with_click_counter[df_search_with_click_counter['search_id']>1].count()\n",
    "number_of_search_with_out_click=df_search_logs['search_id'].count()-df_search_with_click_counter['search_id'].count()\n",
    "print('number of search without any click:\\n',number_of_search_with_out_click)\n",
    "print('number of search with one click:\\n',number_of_search_with_one_click)\n",
    "print('number of search with more than one click:\\n',number_of_search_with_more_than_one_click)"
   ]
  },
  {
   "cell_type": "markdown",
   "id": "b2bf91c4-e1cb-46dd-9390-0a97bf4aeeaa",
   "metadata": {
    "tags": []
   },
   "source": [
    "### 🚩Most clicked products\n",
    "\n",
    "We are interested to know which product are the most popular. For that, we can count the clicks of each product and consider the most clicked products as the most popular ones. So let's find the top 20 most clicked products (we would like to know the ID, title and number of clicks for those products):"
   ]
  },
  {
   "cell_type": "code",
   "execution_count": 242,
   "id": "ebbdd2ba",
   "metadata": {},
   "outputs": [
    {
     "ename": "KeyError",
     "evalue": "\"None of [Index(['result'], dtype='object')] are in the [index]\"",
     "output_type": "error",
     "traceback": [
      "\u001b[1;31m---------------------------------------------------------------------------\u001b[0m",
      "\u001b[1;31mKeyError\u001b[0m                                  Traceback (most recent call last)",
      "Input \u001b[1;32mIn [242]\u001b[0m, in \u001b[0;36m<cell line: 2>\u001b[1;34m()\u001b[0m\n\u001b[0;32m      1\u001b[0m \u001b[38;5;66;03m# df_search_logs['result'].str[df_search_click_logs['rank']]\u001b[39;00m\n\u001b[1;32m----> 2\u001b[0m df_merge_search_click_and_search_logs[\u001b[38;5;124m'\u001b[39m\u001b[38;5;124msearched_result\u001b[39m\u001b[38;5;124m'\u001b[39m]\u001b[38;5;241m=\u001b[39mdf_merge_search_click_and_search_logs[\u001b[38;5;124m'\u001b[39m\u001b[38;5;124mresult\u001b[39m\u001b[38;5;124m'\u001b[39m]\u001b[38;5;241m.\u001b[39mstr[\u001b[43mdf_merge_search_click_and_search_logs\u001b[49m\u001b[38;5;241;43m.\u001b[39;49m\u001b[43mloc\u001b[49m\u001b[43m[\u001b[49m\u001b[43m[\u001b[49m\u001b[38;5;124;43m'\u001b[39;49m\u001b[38;5;124;43mresult\u001b[39;49m\u001b[38;5;124;43m'\u001b[39;49m\u001b[43m]\u001b[49m\u001b[43m,\u001b[49m\u001b[43m[\u001b[49m\u001b[38;5;124;43m'\u001b[39;49m\u001b[38;5;124;43mrank\u001b[39;49m\u001b[38;5;124;43m'\u001b[39;49m\u001b[43m]\u001b[49m\u001b[43m]\u001b[49m]\n\u001b[0;32m      3\u001b[0m df_merge_search_click_and_search_logs\u001b[38;5;241m.\u001b[39mhead()\n",
      "File \u001b[1;32mC:\\ProgramData\\Anaconda3\\lib\\site-packages\\pandas\\core\\indexing.py:961\u001b[0m, in \u001b[0;36m_LocationIndexer.__getitem__\u001b[1;34m(self, key)\u001b[0m\n\u001b[0;32m    959\u001b[0m     \u001b[38;5;28;01mif\u001b[39;00m \u001b[38;5;28mself\u001b[39m\u001b[38;5;241m.\u001b[39m_is_scalar_access(key):\n\u001b[0;32m    960\u001b[0m         \u001b[38;5;28;01mreturn\u001b[39;00m \u001b[38;5;28mself\u001b[39m\u001b[38;5;241m.\u001b[39mobj\u001b[38;5;241m.\u001b[39m_get_value(\u001b[38;5;241m*\u001b[39mkey, takeable\u001b[38;5;241m=\u001b[39m\u001b[38;5;28mself\u001b[39m\u001b[38;5;241m.\u001b[39m_takeable)\n\u001b[1;32m--> 961\u001b[0m     \u001b[38;5;28;01mreturn\u001b[39;00m \u001b[38;5;28;43mself\u001b[39;49m\u001b[38;5;241;43m.\u001b[39;49m\u001b[43m_getitem_tuple\u001b[49m\u001b[43m(\u001b[49m\u001b[43mkey\u001b[49m\u001b[43m)\u001b[49m\n\u001b[0;32m    962\u001b[0m \u001b[38;5;28;01melse\u001b[39;00m:\n\u001b[0;32m    963\u001b[0m     \u001b[38;5;66;03m# we by definition only have the 0th axis\u001b[39;00m\n\u001b[0;32m    964\u001b[0m     axis \u001b[38;5;241m=\u001b[39m \u001b[38;5;28mself\u001b[39m\u001b[38;5;241m.\u001b[39maxis \u001b[38;5;129;01mor\u001b[39;00m \u001b[38;5;241m0\u001b[39m\n",
      "File \u001b[1;32mC:\\ProgramData\\Anaconda3\\lib\\site-packages\\pandas\\core\\indexing.py:1147\u001b[0m, in \u001b[0;36m_LocIndexer._getitem_tuple\u001b[1;34m(self, tup)\u001b[0m\n\u001b[0;32m   1145\u001b[0m \u001b[38;5;66;03m# ugly hack for GH #836\u001b[39;00m\n\u001b[0;32m   1146\u001b[0m \u001b[38;5;28;01mif\u001b[39;00m \u001b[38;5;28mself\u001b[39m\u001b[38;5;241m.\u001b[39m_multi_take_opportunity(tup):\n\u001b[1;32m-> 1147\u001b[0m     \u001b[38;5;28;01mreturn\u001b[39;00m \u001b[38;5;28;43mself\u001b[39;49m\u001b[38;5;241;43m.\u001b[39;49m\u001b[43m_multi_take\u001b[49m\u001b[43m(\u001b[49m\u001b[43mtup\u001b[49m\u001b[43m)\u001b[49m\n\u001b[0;32m   1149\u001b[0m \u001b[38;5;28;01mreturn\u001b[39;00m \u001b[38;5;28mself\u001b[39m\u001b[38;5;241m.\u001b[39m_getitem_tuple_same_dim(tup)\n",
      "File \u001b[1;32mC:\\ProgramData\\Anaconda3\\lib\\site-packages\\pandas\\core\\indexing.py:1098\u001b[0m, in \u001b[0;36m_LocIndexer._multi_take\u001b[1;34m(self, tup)\u001b[0m\n\u001b[0;32m   1082\u001b[0m \u001b[38;5;124;03m\"\"\"\u001b[39;00m\n\u001b[0;32m   1083\u001b[0m \u001b[38;5;124;03mCreate the indexers for the passed tuple of keys, and\u001b[39;00m\n\u001b[0;32m   1084\u001b[0m \u001b[38;5;124;03mexecutes the take operation. This allows the take operation to be\u001b[39;00m\n\u001b[1;32m   (...)\u001b[0m\n\u001b[0;32m   1095\u001b[0m \u001b[38;5;124;03mvalues: same type as the object being indexed\u001b[39;00m\n\u001b[0;32m   1096\u001b[0m \u001b[38;5;124;03m\"\"\"\u001b[39;00m\n\u001b[0;32m   1097\u001b[0m \u001b[38;5;66;03m# GH 836\u001b[39;00m\n\u001b[1;32m-> 1098\u001b[0m d \u001b[38;5;241m=\u001b[39m {\n\u001b[0;32m   1099\u001b[0m     axis: \u001b[38;5;28mself\u001b[39m\u001b[38;5;241m.\u001b[39m_get_listlike_indexer(key, axis)\n\u001b[0;32m   1100\u001b[0m     \u001b[38;5;28;01mfor\u001b[39;00m (key, axis) \u001b[38;5;129;01min\u001b[39;00m \u001b[38;5;28mzip\u001b[39m(tup, \u001b[38;5;28mself\u001b[39m\u001b[38;5;241m.\u001b[39mobj\u001b[38;5;241m.\u001b[39m_AXIS_ORDERS)\n\u001b[0;32m   1101\u001b[0m }\n\u001b[0;32m   1102\u001b[0m \u001b[38;5;28;01mreturn\u001b[39;00m \u001b[38;5;28mself\u001b[39m\u001b[38;5;241m.\u001b[39mobj\u001b[38;5;241m.\u001b[39m_reindex_with_indexers(d, copy\u001b[38;5;241m=\u001b[39m\u001b[38;5;28;01mTrue\u001b[39;00m, allow_dups\u001b[38;5;241m=\u001b[39m\u001b[38;5;28;01mTrue\u001b[39;00m)\n",
      "File \u001b[1;32mC:\\ProgramData\\Anaconda3\\lib\\site-packages\\pandas\\core\\indexing.py:1099\u001b[0m, in \u001b[0;36m<dictcomp>\u001b[1;34m(.0)\u001b[0m\n\u001b[0;32m   1082\u001b[0m \u001b[38;5;124;03m\"\"\"\u001b[39;00m\n\u001b[0;32m   1083\u001b[0m \u001b[38;5;124;03mCreate the indexers for the passed tuple of keys, and\u001b[39;00m\n\u001b[0;32m   1084\u001b[0m \u001b[38;5;124;03mexecutes the take operation. This allows the take operation to be\u001b[39;00m\n\u001b[1;32m   (...)\u001b[0m\n\u001b[0;32m   1095\u001b[0m \u001b[38;5;124;03mvalues: same type as the object being indexed\u001b[39;00m\n\u001b[0;32m   1096\u001b[0m \u001b[38;5;124;03m\"\"\"\u001b[39;00m\n\u001b[0;32m   1097\u001b[0m \u001b[38;5;66;03m# GH 836\u001b[39;00m\n\u001b[0;32m   1098\u001b[0m d \u001b[38;5;241m=\u001b[39m {\n\u001b[1;32m-> 1099\u001b[0m     axis: \u001b[38;5;28;43mself\u001b[39;49m\u001b[38;5;241;43m.\u001b[39;49m\u001b[43m_get_listlike_indexer\u001b[49m\u001b[43m(\u001b[49m\u001b[43mkey\u001b[49m\u001b[43m,\u001b[49m\u001b[43m \u001b[49m\u001b[43maxis\u001b[49m\u001b[43m)\u001b[49m\n\u001b[0;32m   1100\u001b[0m     \u001b[38;5;28;01mfor\u001b[39;00m (key, axis) \u001b[38;5;129;01min\u001b[39;00m \u001b[38;5;28mzip\u001b[39m(tup, \u001b[38;5;28mself\u001b[39m\u001b[38;5;241m.\u001b[39mobj\u001b[38;5;241m.\u001b[39m_AXIS_ORDERS)\n\u001b[0;32m   1101\u001b[0m }\n\u001b[0;32m   1102\u001b[0m \u001b[38;5;28;01mreturn\u001b[39;00m \u001b[38;5;28mself\u001b[39m\u001b[38;5;241m.\u001b[39mobj\u001b[38;5;241m.\u001b[39m_reindex_with_indexers(d, copy\u001b[38;5;241m=\u001b[39m\u001b[38;5;28;01mTrue\u001b[39;00m, allow_dups\u001b[38;5;241m=\u001b[39m\u001b[38;5;28;01mTrue\u001b[39;00m)\n",
      "File \u001b[1;32mC:\\ProgramData\\Anaconda3\\lib\\site-packages\\pandas\\core\\indexing.py:1327\u001b[0m, in \u001b[0;36m_LocIndexer._get_listlike_indexer\u001b[1;34m(self, key, axis)\u001b[0m\n\u001b[0;32m   1324\u001b[0m ax \u001b[38;5;241m=\u001b[39m \u001b[38;5;28mself\u001b[39m\u001b[38;5;241m.\u001b[39mobj\u001b[38;5;241m.\u001b[39m_get_axis(axis)\n\u001b[0;32m   1325\u001b[0m axis_name \u001b[38;5;241m=\u001b[39m \u001b[38;5;28mself\u001b[39m\u001b[38;5;241m.\u001b[39mobj\u001b[38;5;241m.\u001b[39m_get_axis_name(axis)\n\u001b[1;32m-> 1327\u001b[0m keyarr, indexer \u001b[38;5;241m=\u001b[39m \u001b[43max\u001b[49m\u001b[38;5;241;43m.\u001b[39;49m\u001b[43m_get_indexer_strict\u001b[49m\u001b[43m(\u001b[49m\u001b[43mkey\u001b[49m\u001b[43m,\u001b[49m\u001b[43m \u001b[49m\u001b[43maxis_name\u001b[49m\u001b[43m)\u001b[49m\n\u001b[0;32m   1329\u001b[0m \u001b[38;5;28;01mreturn\u001b[39;00m keyarr, indexer\n",
      "File \u001b[1;32mC:\\ProgramData\\Anaconda3\\lib\\site-packages\\pandas\\core\\indexes\\base.py:5782\u001b[0m, in \u001b[0;36mIndex._get_indexer_strict\u001b[1;34m(self, key, axis_name)\u001b[0m\n\u001b[0;32m   5779\u001b[0m \u001b[38;5;28;01melse\u001b[39;00m:\n\u001b[0;32m   5780\u001b[0m     keyarr, indexer, new_indexer \u001b[38;5;241m=\u001b[39m \u001b[38;5;28mself\u001b[39m\u001b[38;5;241m.\u001b[39m_reindex_non_unique(keyarr)\n\u001b[1;32m-> 5782\u001b[0m \u001b[38;5;28;43mself\u001b[39;49m\u001b[38;5;241;43m.\u001b[39;49m\u001b[43m_raise_if_missing\u001b[49m\u001b[43m(\u001b[49m\u001b[43mkeyarr\u001b[49m\u001b[43m,\u001b[49m\u001b[43m \u001b[49m\u001b[43mindexer\u001b[49m\u001b[43m,\u001b[49m\u001b[43m \u001b[49m\u001b[43maxis_name\u001b[49m\u001b[43m)\u001b[49m\n\u001b[0;32m   5784\u001b[0m keyarr \u001b[38;5;241m=\u001b[39m \u001b[38;5;28mself\u001b[39m\u001b[38;5;241m.\u001b[39mtake(indexer)\n\u001b[0;32m   5785\u001b[0m \u001b[38;5;28;01mif\u001b[39;00m \u001b[38;5;28misinstance\u001b[39m(key, Index):\n\u001b[0;32m   5786\u001b[0m     \u001b[38;5;66;03m# GH 42790 - Preserve name from an Index\u001b[39;00m\n",
      "File \u001b[1;32mC:\\ProgramData\\Anaconda3\\lib\\site-packages\\pandas\\core\\indexes\\base.py:5842\u001b[0m, in \u001b[0;36mIndex._raise_if_missing\u001b[1;34m(self, key, indexer, axis_name)\u001b[0m\n\u001b[0;32m   5840\u001b[0m     \u001b[38;5;28;01mif\u001b[39;00m use_interval_msg:\n\u001b[0;32m   5841\u001b[0m         key \u001b[38;5;241m=\u001b[39m \u001b[38;5;28mlist\u001b[39m(key)\n\u001b[1;32m-> 5842\u001b[0m     \u001b[38;5;28;01mraise\u001b[39;00m \u001b[38;5;167;01mKeyError\u001b[39;00m(\u001b[38;5;124mf\u001b[39m\u001b[38;5;124m\"\u001b[39m\u001b[38;5;124mNone of [\u001b[39m\u001b[38;5;132;01m{\u001b[39;00mkey\u001b[38;5;132;01m}\u001b[39;00m\u001b[38;5;124m] are in the [\u001b[39m\u001b[38;5;132;01m{\u001b[39;00maxis_name\u001b[38;5;132;01m}\u001b[39;00m\u001b[38;5;124m]\u001b[39m\u001b[38;5;124m\"\u001b[39m)\n\u001b[0;32m   5844\u001b[0m not_found \u001b[38;5;241m=\u001b[39m \u001b[38;5;28mlist\u001b[39m(ensure_index(key)[missing_mask\u001b[38;5;241m.\u001b[39mnonzero()[\u001b[38;5;241m0\u001b[39m]]\u001b[38;5;241m.\u001b[39munique())\n\u001b[0;32m   5845\u001b[0m \u001b[38;5;28;01mraise\u001b[39;00m \u001b[38;5;167;01mKeyError\u001b[39;00m(\u001b[38;5;124mf\u001b[39m\u001b[38;5;124m\"\u001b[39m\u001b[38;5;132;01m{\u001b[39;00mnot_found\u001b[38;5;132;01m}\u001b[39;00m\u001b[38;5;124m not in index\u001b[39m\u001b[38;5;124m\"\u001b[39m)\n",
      "\u001b[1;31mKeyError\u001b[0m: \"None of [Index(['result'], dtype='object')] are in the [index]\""
     ]
    }
   ],
   "source": [
    "# df_search_logs['result'].str[df_search_click_logs['rank']]\n",
    "# df_merge_search_click_and_search_logs['searched_result']=df_merge_search_click_and_search_logs['result'].str[df_merge_search_click_and_search_logs.loc[['result'],['rank']]]\n",
    "df_merge_search_click_and_search_logs.head()\n",
    "\n"
   ]
  },
  {
   "cell_type": "code",
   "execution_count": 209,
   "id": "e1462469",
   "metadata": {},
   "outputs": [
    {
     "data": {
      "text/html": [
       "<div>\n",
       "<style scoped>\n",
       "    .dataframe tbody tr th:only-of-type {\n",
       "        vertical-align: middle;\n",
       "    }\n",
       "\n",
       "    .dataframe tbody tr th {\n",
       "        vertical-align: top;\n",
       "    }\n",
       "\n",
       "    .dataframe thead th {\n",
       "        text-align: right;\n",
       "    }\n",
       "</style>\n",
       "<table border=\"1\" class=\"dataframe\">\n",
       "  <thead>\n",
       "    <tr style=\"text-align: right;\">\n",
       "      <th></th>\n",
       "      <th>search_id</th>\n",
       "      <th>raw_query</th>\n",
       "      <th>result</th>\n",
       "      <th>datetime</th>\n",
       "      <th>category_id</th>\n",
       "      <th>user_id</th>\n",
       "      <th>number_of_word_search</th>\n",
       "      <th>weekday</th>\n",
       "      <th>number_of_search_result</th>\n",
       "    </tr>\n",
       "  </thead>\n",
       "  <tbody>\n",
       "    <tr>\n",
       "      <th>0</th>\n",
       "      <td>qahft</td>\n",
       "      <td>سرویس ملامین نشکن</td>\n",
       "      <td>[7840591, 1784875, 6716428, 6135112, 7103618, ...</td>\n",
       "      <td>2022-05-16 17:47:22.701000+04:30</td>\n",
       "      <td>NaN</td>\n",
       "      <td>MPOHZ</td>\n",
       "      <td>3</td>\n",
       "      <td>0</td>\n",
       "      <td>10</td>\n",
       "    </tr>\n",
       "    <tr>\n",
       "      <th>1</th>\n",
       "      <td>rxcka</td>\n",
       "      <td>جارو برقی</td>\n",
       "      <td>[451703, 8801989, 8977506, 4665205, 5219768, 5...</td>\n",
       "      <td>2022-05-18 15:54:02.385000+04:30</td>\n",
       "      <td>4792.0</td>\n",
       "      <td>NZPJN</td>\n",
       "      <td>2</td>\n",
       "      <td>2</td>\n",
       "      <td>10</td>\n",
       "    </tr>\n",
       "    <tr>\n",
       "      <th>2</th>\n",
       "      <td>fnafq</td>\n",
       "      <td>دسته ps4</td>\n",
       "      <td>[1457782, 5150503, 5921870, 909372, 9738201, 1...</td>\n",
       "      <td>2022-05-15 00:05:31.691000+04:30</td>\n",
       "      <td>NaN</td>\n",
       "      <td>NRMQA</td>\n",
       "      <td>2</td>\n",
       "      <td>6</td>\n",
       "      <td>10</td>\n",
       "    </tr>\n",
       "    <tr>\n",
       "      <th>3</th>\n",
       "      <td>ofpva</td>\n",
       "      <td>کلو تریمازول</td>\n",
       "      <td>[404198, 812389, 339213, 929557, 3632184, 7764...</td>\n",
       "      <td>2022-05-14 22:50:55.328000+04:30</td>\n",
       "      <td>NaN</td>\n",
       "      <td>WRYZT</td>\n",
       "      <td>2</td>\n",
       "      <td>5</td>\n",
       "      <td>10</td>\n",
       "    </tr>\n",
       "    <tr>\n",
       "      <th>4</th>\n",
       "      <td>usiey</td>\n",
       "      <td>قرص فولی کوژن</td>\n",
       "      <td>[8103652, 7283604, 4030781, 4756913, 3259566, ...</td>\n",
       "      <td>2022-05-14 00:20:03.519000+04:30</td>\n",
       "      <td>3196.0</td>\n",
       "      <td>TJLWU</td>\n",
       "      <td>3</td>\n",
       "      <td>5</td>\n",
       "      <td>10</td>\n",
       "    </tr>\n",
       "  </tbody>\n",
       "</table>\n",
       "</div>"
      ],
      "text/plain": [
       "  search_id          raw_query  \\\n",
       "0     qahft  سرویس ملامین نشکن   \n",
       "1     rxcka          جارو برقی   \n",
       "2     fnafq          دسته ps4    \n",
       "3     ofpva       کلو تریمازول   \n",
       "4     usiey      قرص فولی کوژن   \n",
       "\n",
       "                                              result  \\\n",
       "0  [7840591, 1784875, 6716428, 6135112, 7103618, ...   \n",
       "1  [451703, 8801989, 8977506, 4665205, 5219768, 5...   \n",
       "2  [1457782, 5150503, 5921870, 909372, 9738201, 1...   \n",
       "3  [404198, 812389, 339213, 929557, 3632184, 7764...   \n",
       "4  [8103652, 7283604, 4030781, 4756913, 3259566, ...   \n",
       "\n",
       "                          datetime  category_id user_id  \\\n",
       "0 2022-05-16 17:47:22.701000+04:30          NaN   MPOHZ   \n",
       "1 2022-05-18 15:54:02.385000+04:30       4792.0   NZPJN   \n",
       "2 2022-05-15 00:05:31.691000+04:30          NaN   NRMQA   \n",
       "3 2022-05-14 22:50:55.328000+04:30          NaN   WRYZT   \n",
       "4 2022-05-14 00:20:03.519000+04:30       3196.0   TJLWU   \n",
       "\n",
       "   number_of_word_search  weekday  number_of_search_result  \n",
       "0                      3        0                       10  \n",
       "1                      2        2                       10  \n",
       "2                      2        6                       10  \n",
       "3                      2        5                       10  \n",
       "4                      3        5                       10  "
      ]
     },
     "execution_count": 209,
     "metadata": {},
     "output_type": "execute_result"
    }
   ],
   "source": [
    "df_search_logs.head()"
   ]
  },
  {
   "cell_type": "code",
   "execution_count": 208,
   "id": "e2cda6f2",
   "metadata": {},
   "outputs": [
    {
     "data": {
      "text/html": [
       "<div>\n",
       "<style scoped>\n",
       "    .dataframe tbody tr th:only-of-type {\n",
       "        vertical-align: middle;\n",
       "    }\n",
       "\n",
       "    .dataframe tbody tr th {\n",
       "        vertical-align: top;\n",
       "    }\n",
       "\n",
       "    .dataframe thead th {\n",
       "        text-align: right;\n",
       "    }\n",
       "</style>\n",
       "<table border=\"1\" class=\"dataframe\">\n",
       "  <thead>\n",
       "    <tr style=\"text-align: right;\">\n",
       "      <th></th>\n",
       "      <th>id</th>\n",
       "      <th>title</th>\n",
       "      <th>category_id</th>\n",
       "    </tr>\n",
       "  </thead>\n",
       "  <tbody>\n",
       "    <tr>\n",
       "      <th>0</th>\n",
       "      <td>758287</td>\n",
       "      <td>میکروسکوپ سلسترون مدل 44121</td>\n",
       "      <td>262</td>\n",
       "    </tr>\n",
       "    <tr>\n",
       "      <th>1</th>\n",
       "      <td>7164195</td>\n",
       "      <td>دوربین عکاسی نیکون مدل Nikon D5600 body</td>\n",
       "      <td>1273</td>\n",
       "    </tr>\n",
       "    <tr>\n",
       "      <th>2</th>\n",
       "      <td>3242621</td>\n",
       "      <td>دوچرخه شهری قناری مدل Space Shuttle سایز 16</td>\n",
       "      <td>3882</td>\n",
       "    </tr>\n",
       "    <tr>\n",
       "      <th>3</th>\n",
       "      <td>4277974</td>\n",
       "      <td>دوچرخه سایز 16 مدل  2020 Flying Bear قناری</td>\n",
       "      <td>3882</td>\n",
       "    </tr>\n",
       "    <tr>\n",
       "      <th>4</th>\n",
       "      <td>8671305</td>\n",
       "      <td>دوچرخه 12 قناری مدل JENNY</td>\n",
       "      <td>4320</td>\n",
       "    </tr>\n",
       "  </tbody>\n",
       "</table>\n",
       "</div>"
      ],
      "text/plain": [
       "        id                                        title  category_id\n",
       "0   758287                  میکروسکوپ سلسترون مدل 44121          262\n",
       "1  7164195      دوربین عکاسی نیکون مدل Nikon D5600 body         1273\n",
       "2  3242621  دوچرخه شهری قناری مدل Space Shuttle سایز 16         3882\n",
       "3  4277974   دوچرخه سایز 16 مدل  2020 Flying Bear قناری         3882\n",
       "4  8671305                    دوچرخه 12 قناری مدل JENNY         4320"
      ]
     },
     "execution_count": 208,
     "metadata": {},
     "output_type": "execute_result"
    }
   ],
   "source": [
    "df_products.head()"
   ]
  },
  {
   "cell_type": "markdown",
   "id": "12378660-3414-4128-9c65-4f539d0cf6ca",
   "metadata": {},
   "source": [
    "**Write the answer below:**  \n",
    "(Hint: here we also need to combine information from multiple dataframes; to find the ID of clicked products, we need to consider both of \"search logs\" and \"search clicks\" dataframes, and for finding product info we additionally need the \"products\" dataframe.)"
   ]
  },
  {
   "cell_type": "code",
   "execution_count": null,
   "id": "3c412aaf-6952-42cf-b1d6-2dfcfaab8746",
   "metadata": {},
   "outputs": [],
   "source": []
  },
  {
   "cell_type": "markdown",
   "id": "2fd84446-488e-452a-b557-94754b50709c",
   "metadata": {
    "tags": []
   },
   "source": [
    "### 🚩Most clicked categories\n",
    "\n",
    "And finally, we would like to know which categories of the products have the most clicks. In other words, we would like to find out products of which categories have gotten the most clicks in total. Let's find the top 10 most clicked categories, including the ID and title of the categories as well as the total number of clicks for each of those categories:"
   ]
  },
  {
   "cell_type": "markdown",
   "id": "3a52f2dc-f667-49d5-aaff-d63d21b44476",
   "metadata": {},
   "source": [
    "**Write the answer below:**  \n",
    "(Hint: again, to calculate this, we need to combine the information of multiple dataframes... actually, all of them!)"
   ]
  },
  {
   "cell_type": "code",
   "execution_count": null,
   "id": "6bdb730a-76d4-4357-a6fe-33200b4390dd",
   "metadata": {},
   "outputs": [],
   "source": []
  }
 ],
 "metadata": {
  "kernelspec": {
   "display_name": "Python 3 (ipykernel)",
   "language": "python",
   "name": "python3"
  },
  "language_info": {
   "codemirror_mode": {
    "name": "ipython",
    "version": 3
   },
   "file_extension": ".py",
   "mimetype": "text/x-python",
   "name": "python",
   "nbconvert_exporter": "python",
   "pygments_lexer": "ipython3",
   "version": "3.9.12"
  }
 },
 "nbformat": 4,
 "nbformat_minor": 5
}
